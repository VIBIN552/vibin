{
 "cells": [
  {
   "cell_type": "code",
   "execution_count": 378,
   "metadata": {},
   "outputs": [],
   "source": [
    "import pandas as pd\n",
    "import psycopg2\n",
    "import plotly.express as px\n",
    "import json\n",
    "import requests"
   ]
  },
  {
   "cell_type": "code",
   "execution_count": 379,
   "metadata": {},
   "outputs": [],
   "source": [
    "#Data Frame Creation\n",
    "\n",
    "#SQL connection\n",
    "\n",
    "mydb = psycopg2.connect(host = \"localhost\",\n",
    "                        user = \"postgres\",\n",
    "                        port = \"5432\",\n",
    "                        database = \"phonepay_data\",\n",
    "                        password = \"John@2394\")\n",
    "cursor =mydb.cursor()\n",
    "\n",
    "#Aggregated Insurance df\n",
    "\n",
    "cursor.execute(\"SELECT * FROM aggregated_insurance\")\n",
    "mydb.commit()\n",
    "table1 = cursor.fetchall()\n",
    "\n",
    "Aggregated_insurance = pd.DataFrame(table1, columns=(\"States\", \"Years\", \"Quarter\", \n",
    "                                                     \"Transaction_type\", \"Transaction_count\", \"Transaction_amount\"))\n",
    "#Aggregated transaction df\n",
    "\n",
    "cursor.execute(\"SELECT * FROM aggregated_transaction\")\n",
    "mydb.commit()\n",
    "table2 = cursor.fetchall()\n",
    "\n",
    "Aggregated_transaction = pd.DataFrame(table2, columns=(\"States\", \"Years\", \"Quarter\", \n",
    "                                                     \"Transaction_type\", \"Transaction_count\", \"Transaction_amount\"))\n",
    "\n",
    "#Aggregated User df\n",
    "\n",
    "cursor.execute(\"SELECT * FROM aggregated_user\")\n",
    "mydb.commit()\n",
    "table3 = cursor.fetchall()\n",
    "\n",
    "Aggregated_user = pd.DataFrame(table3, columns=(\"States\", \"Years\", \"Quarter\", \n",
    "                                                     \"Brands\", \"Transaction_count\", \"Percentage\"))\n",
    "\n",
    "#Map Insurance df\n",
    "\n",
    "cursor.execute(\"SELECT * FROM map_insurance\")\n",
    "mydb.commit()\n",
    "table4 = cursor.fetchall()\n",
    "\n",
    "Map_insurance = pd.DataFrame(table4, columns=(\"States\", \"Years\", \"Quarter\", \n",
    "                                                     \"Districts\", \"Transaction_count\", \"Transaction_amount\"))\n",
    "#Map transaction df\n",
    "\n",
    "cursor.execute(\"SELECT * FROM map_transaction\")\n",
    "mydb.commit()\n",
    "table5 = cursor.fetchall()\n",
    "\n",
    "Map_transaction = pd.DataFrame(table5, columns=(\"States\", \"Years\", \"Quarter\", \n",
    "                                                     \"Districts\", \"Transaction_count\", \"Transaction_amount\"))\n",
    "\n",
    "\n",
    "#Map user df\n",
    "\n",
    "cursor.execute(\"SELECT * FROM map_user\")\n",
    "mydb.commit()\n",
    "table6 = cursor.fetchall()\n",
    "\n",
    "Map_user = pd.DataFrame(table6, columns=(\"States\", \"Years\", \"Quarter\", \n",
    "                                                     \"Districts\", \"RegisteredUsers\", \"AppOpens\"))\n",
    "\n",
    "#top Insurance df\n",
    "\n",
    "cursor.execute(\"SELECT * FROM top_insurance\")\n",
    "mydb.commit()\n",
    "table7 = cursor.fetchall()\n",
    "\n",
    "Top_insurance = pd.DataFrame(table7, columns=(\"States\", \"Years\", \"Quarter\", \n",
    "                                                     \"Pincodes\", \"Transaction_count\", \"Transaction_amount\"))\n",
    "\n",
    "#top transaction df\n",
    "\n",
    "cursor.execute(\"SELECT * FROM top_transaction\")\n",
    "mydb.commit()\n",
    "table8= cursor.fetchall()\n",
    "\n",
    "Top_transaction = pd.DataFrame(table8, columns=(\"States\", \"Years\", \"Quarter\", \n",
    "                                                     \"Pincodes\", \"Transaction_count\", \"Transaction_amount\"))\n",
    "#Top user df\n",
    "\n",
    "cursor.execute(\"SELECT * FROM top_user\")\n",
    "mydb.commit()\n",
    "table9 = cursor.fetchall()\n",
    "\n",
    "Top_user = pd.DataFrame(table9, columns=(\"States\", \"Years\", \"Quarter\", \n",
    "                                                     \"Pincodes\", \"RegisteredUsers\"))"
   ]
  },
  {
   "cell_type": "code",
   "execution_count": 380,
   "metadata": {},
   "outputs": [],
   "source": [
    "#sql connection\n",
    "def top_chart_transaction_amount(table_name):\n",
    "    \n",
    "    mydb = psycopg2.connect(host = \"localhost\",\n",
    "                            user = \"postgres\",\n",
    "                            port = \"5432\",\n",
    "                            database = \"phonepay_data\",\n",
    "                            password = \"John@2394\")\n",
    "    cursor =mydb.cursor()\n",
    "\n",
    "    #plot 1\n",
    "\n",
    "    query1 = f'''SELECT states, SUM(transaction_amount) AS transaction_amount\n",
    "                FROM {table_name}\n",
    "                GROUP BY states\n",
    "                ORDER BY transaction_amount DESC\n",
    "                LIMIT 10;'''\n",
    "                \n",
    "    cursor.execute(query1)\n",
    "    table_1 = cursor.fetchall()\n",
    "    mydb.commit()\n",
    "\n",
    "    df_1 =pd.DataFrame(table_1, columns= (\"states\", \"transaction_amount\"))\n",
    "\n",
    "    fig_amount_1 = px.bar(df_1, x=\"states\", y=\"transaction_amount\", title=\"TRANSACTION AMOUNT\", hover_name= \"states\",\n",
    "                            color_discrete_sequence=px.colors.sequential.Aggrnyl, height= 650, width= 600)\n",
    "    fig_amount_1.show()\n",
    "#plot 2\n",
    "\n",
    "    query2 = f'''SELECT states, SUM(transaction_amount) AS transaction_amount\n",
    "                FROM {table_name}\n",
    "                GROUP BY states\n",
    "                ORDER BY transaction_amount \n",
    "                LIMIT 10;'''\n",
    "                \n",
    "    cursor.execute(query2)\n",
    "    table_2 = cursor.fetchall()\n",
    "    mydb.commit()\n",
    "\n",
    "    df_2 =pd.DataFrame(table_2, columns= (\"states\", \"transaction_amount\"))\n",
    "\n",
    "    fig_amount_2 = px.bar(df_2, x=\"states\", y=\"transaction_amount\", title=\"TRANSACTION AMOUNT\", hover_name= \"states\",\n",
    "                            color_discrete_sequence=px.colors.sequential.Bluyl_r, height= 650, width= 600)\n",
    "    fig_amount_2.show()\n",
    "#plot 3\n",
    "\n",
    "    query3 = f'''SELECT states, AVG(transaction_amount) AS transaction_amount\n",
    "                FROM {table_name}\n",
    "                GROUP BY states\n",
    "                ORDER BY transaction_amount;'''\n",
    "                \n",
    "    cursor.execute(query3)\n",
    "    table_3 = cursor.fetchall()\n",
    "    mydb.commit()\n",
    "\n",
    "    df_3 =pd.DataFrame(table_3, columns= (\"states\", \"transaction_amount\"))\n",
    "\n",
    "    fig_amount_3 = px.bar(df_3, y=\"states\", x=\"transaction_amount\", title=\"TRANSACTION AMOUNT\", hover_name= \"states\", orientation= \"h\",\n",
    "                            color_discrete_sequence=px.colors.sequential.Blues_r, height= 800, width= 1000)\n",
    "    fig_amount_3.show()\n",
    "              "
   ]
  },
  {
   "cell_type": "code",
   "execution_count": 381,
   "metadata": {},
   "outputs": [],
   "source": [
    "#sql connection\n",
    "\n",
    "def top_chart_transaction_count(table_name):\n",
    "    \n",
    "    mydb = psycopg2.connect(host = \"localhost\",\n",
    "                            user = \"postgres\",\n",
    "                            port = \"5432\",\n",
    "                            database = \"phonepay_data\",\n",
    "                            password = \"John@2394\")\n",
    "    cursor =mydb.cursor()\n",
    "\n",
    "    #plot 1\n",
    "\n",
    "    query1 = f'''SELECT states, SUM(transaction_count) AS transaction_count\n",
    "                FROM {table_name}\n",
    "                GROUP BY states\n",
    "                ORDER BY transaction_count DESC\n",
    "                LIMIT 10;'''\n",
    "                \n",
    "    cursor.execute(query1)\n",
    "    table_1 = cursor.fetchall()\n",
    "    mydb.commit()\n",
    "\n",
    "    df_1 =pd.DataFrame(table_1, columns= (\"states\", \"transaction_count\"))\n",
    "\n",
    "    fig_amount_1 = px.bar(df_1, x=\"states\", y=\"transaction_count\", title=\"TRANSACTION COUNT\", hover_name= \"states\",\n",
    "                            color_discrete_sequence=px.colors.sequential.Aggrnyl, height= 650, width= 600)\n",
    "    fig_amount_1.show()\n",
    " #plot 2\n",
    "\n",
    "    query2 = f'''SELECT states, SUM(transaction_count) AS transaction_count\n",
    "                FROM {table_name}\n",
    "                GROUP BY states\n",
    "                ORDER BY transaction_count \n",
    "                LIMIT 10;'''\n",
    "                \n",
    "    cursor.execute(query2)\n",
    "    table_2 = cursor.fetchall()\n",
    "    mydb.commit()\n",
    "\n",
    "    df_2 =pd.DataFrame(table_2, columns= (\"states\", \"transaction_count\"))\n",
    "\n",
    "    fig_amount_2 = px.bar(df_2, x=\"states\", y=\"transaction_count\", title=\"TRANSACTION COUNT\", hover_name= \"states\",\n",
    "                            color_discrete_sequence=px.colors.sequential.Bluyl_r, height= 650, width= 600)\n",
    "    fig_amount_2.show()\n",
    "\n",
    "\n",
    "    #plot 3\n",
    "\n",
    "    query3 = f'''SELECT states, AVG(transaction_count) AS transaction_count\n",
    "                FROM {table_name}\n",
    "                GROUP BY states\n",
    "                ORDER BY transaction_count;'''\n",
    "                \n",
    "    cursor.execute(query3)\n",
    "    table_3 = cursor.fetchall()\n",
    "    mydb.commit()\n",
    "\n",
    "    df_3 =pd.DataFrame(table_3, columns= (\"states\", \"transaction_count\"))\n",
    "\n",
    "    fig_amount_3 = px.bar(df_3, y=\"states\", x=\"transaction_count\", title=\"TRANSACTION count\", hover_name= \"states\", orientation= \"h\",\n",
    "                            color_discrete_sequence=px.colors.sequential.Blues_r, height= 800, width= 1000)\n",
    "    fig_amount_3.show()"
   ]
  },
  {
   "cell_type": "code",
   "execution_count": 382,
   "metadata": {},
   "outputs": [],
   "source": [
    "#sql connection\n",
    "def top_chart_registered_users(table_name, state):\n",
    "    \n",
    "    mydb = psycopg2.connect(host = \"localhost\",\n",
    "                            user = \"postgres\",\n",
    "                            port = \"5432\",\n",
    "                            database = \"phonepay_data\",\n",
    "                            password = \"John@2394\")\n",
    "    cursor =mydb.cursor()\n",
    "\n",
    "    #plot 1\n",
    "\n",
    "    query1 = f'''SELECT districts, SUM(registeredusers) AS registeredusers\n",
    "                 FROM {table_name}\n",
    "                 WHERE states='{state}'\n",
    "                 GROUP BY districts\n",
    "                 ORDER BY registeredusers DESC\n",
    "                 LIMIT 10;'''\n",
    "                \n",
    "    cursor.execute(query1)\n",
    "    table_1 = cursor.fetchall()\n",
    "    mydb.commit()\n",
    "\n",
    "    df_1 =pd.DataFrame(table_1, columns= (\"districts\", \"registeredusers\"))\n",
    "\n",
    "    fig_amount_1 = px.bar(df_1, x=\"districts\", y=\"registeredusers\", title=\"TOP 10 OF REGISTERED USERS\", hover_name= \"districts\",\n",
    "                            color_discrete_sequence=px.colors.sequential.Aggrnyl, height= 650, width= 600)\n",
    "    fig_amount_1.show()\n",
    "#plot 2\n",
    "\n",
    "    query2 = f'''SELECT districts, SUM(registeredusers) AS registeredusers\n",
    "                FROM {table_name}\n",
    "                WHERE states='{state}'\n",
    "                GROUP BY districts\n",
    "                ORDER BY registeredusers \n",
    "                LIMIT 10;'''\n",
    "                \n",
    "    cursor.execute(query2)\n",
    "    table_2 = cursor.fetchall()\n",
    "    mydb.commit()\n",
    "\n",
    "    df_2 =pd.DataFrame(table_2, columns= (\"districts\", \"registeredusers\"))\n",
    "\n",
    "    fig_amount_2 = px.bar(df_2, x=\"districts\", y=\"registeredusers\", title=\"LAST 10 OF REGISTERED USERS\", hover_name= \"districts\",\n",
    "                            color_discrete_sequence=px.colors.sequential.Bluyl_r, height= 650, width= 600)\n",
    "    fig_amount_2.show()\n",
    "\n",
    "\n",
    "    #plot 3\n",
    "\n",
    "    query3 = f'''SELECT districts, AVG(registeredusers) AS registeredusers\n",
    "                FROM {table_name}\n",
    "                WHERE states= '{state}'\n",
    "                GROUP BY districts\n",
    "                ORDER BY registeredusers;'''\n",
    "                \n",
    "    cursor.execute(query3)\n",
    "    table_3 = cursor.fetchall()\n",
    "    mydb.commit()\n",
    "\n",
    "    df_3 =pd.DataFrame(table_3, columns= (\"districts\", \"registeredusers\"))\n",
    "\n",
    "    fig_amount_3 = px.bar(df_3, y=\"districts\", x=\"registeredusers\", title=\"AVERAGE OF REGISTERED USERS\", hover_name= \"districts\", orientation= \"h\",\n",
    "                            color_discrete_sequence=px.colors.sequential.Blues_r, height= 800, width= 1000)\n",
    "    fig_amount_3.show()"
   ]
  },
  {
   "cell_type": "code",
   "execution_count": 383,
   "metadata": {},
   "outputs": [],
   "source": [
    "#sql connection\n",
    "def top_chart_appopens(table_name, state):\n",
    "    \n",
    "    mydb = psycopg2.connect(host = \"localhost\",\n",
    "                            user = \"postgres\",\n",
    "                            port = \"5432\",\n",
    "                            database = \"phonepay_data\",\n",
    "                            password = \"John@2394\")\n",
    "    cursor =mydb.cursor()\n",
    "\n",
    "    #plot 1\n",
    "\n",
    "    query1 = f'''SELECT districts, SUM(appopens) AS appopens\n",
    "                 FROM {table_name}\n",
    "                 WHERE states='{state}'\n",
    "                 GROUP BY districts\n",
    "                 ORDER BY appopens DESC\n",
    "                 LIMIT 10;'''\n",
    "                \n",
    "    cursor.execute(query1)\n",
    "    table_1 = cursor.fetchall()\n",
    "    mydb.commit()\n",
    "\n",
    "    df_1 =pd.DataFrame(table_1, columns= (\"districts\", \"appopens\"))\n",
    "\n",
    "    fig_amount_1 = px.bar(df_1, x=\"districts\", y=\"appopens\", title=\"TOP 10 OF APPOPENS\", hover_name= \"districts\",\n",
    "                            color_discrete_sequence=px.colors.sequential.Aggrnyl, height= 650, width= 600)\n",
    "    fig_amount_1.show()\n",
    "#plot 2\n",
    "\n",
    "    query2 = f'''SELECT districts, SUM(appopens) AS appopens\n",
    "                FROM {table_name}\n",
    "                WHERE states='{state}'\n",
    "                GROUP BY districts\n",
    "                ORDER BY appopens\n",
    "                LIMIT 10;'''\n",
    "                \n",
    "    cursor.execute(query2)\n",
    "    table_2 = cursor.fetchall()\n",
    "    mydb.commit()\n",
    "\n",
    "    df_2 =pd.DataFrame(table_2, columns= (\"districts\", \"appopens\"))\n",
    "\n",
    "    fig_amount_2 = px.bar(df_2, x=\"districts\", y=\"appopens\", title=\"LAST 10 OF APPOPENS\", hover_name= \"districts\",\n",
    "                            color_discrete_sequence=px.colors.sequential.Bluyl_r, height= 650, width= 600)\n",
    "    fig_amount_2.show()\n",
    "\n",
    "\n",
    "    #plot 3\n",
    "\n",
    "    query3 = f'''SELECT districts, AVG(appopens) AS appopens\n",
    "                FROM {table_name}\n",
    "                WHERE states= '{state}'\n",
    "                GROUP BY districts\n",
    "                ORDER BY appopens;'''\n",
    "                \n",
    "    cursor.execute(query3)\n",
    "    table_3 = cursor.fetchall()\n",
    "    mydb.commit()\n",
    "\n",
    "    df_3 =pd.DataFrame(table_3, columns= (\"districts\", \"appopens\"))\n",
    "\n",
    "    fig_amount_3 = px.bar(df_3, y=\"districts\", x=\"appopens\", title=\"AVERAGE OF APPOPENS\", hover_name= \"districts\", orientation= \"h\",\n",
    "                            color_discrete_sequence=px.colors.sequential.Blues_r, height= 800, width= 1000)\n",
    "    fig_amount_3.show()"
   ]
  },
  {
   "cell_type": "code",
   "execution_count": 384,
   "metadata": {},
   "outputs": [],
   "source": [
    "#sql connection\n",
    "def top_chart_registeredusers(table_name):\n",
    "    \n",
    "    mydb = psycopg2.connect(host = \"localhost\",\n",
    "                            user = \"postgres\",\n",
    "                            port = \"5432\",\n",
    "                            database = \"phonepay_data\",\n",
    "                            password = \"John@2394\")\n",
    "    cursor =mydb.cursor()\n",
    "\n",
    "    #plot 1\n",
    "\n",
    "    query1 = f'''SELECT states, SUM(registeredusers) AS registeredusers\n",
    "                 FROM {table_name}\n",
    "                 GROUP BY states\n",
    "                 ORDER BY registeredusers DESC\n",
    "                 LIMIT 10;'''\n",
    "                \n",
    "    cursor.execute(query1)\n",
    "    table_1 = cursor.fetchall()\n",
    "    mydb.commit()\n",
    "\n",
    "    df_1 =pd.DataFrame(table_1, columns= (\"states\", \"registeredusers\"))\n",
    "\n",
    "    fig_amount_1 = px.bar(df_1, x=\"states\", y=\"registeredusers\", title=\"TOP 10 OF REGISTERED USERS\", hover_name= \"states\",\n",
    "                            color_discrete_sequence=px.colors.sequential.Aggrnyl, height= 650, width= 600)\n",
    "    fig_amount_1.show()\n",
    " #plot 2\n",
    "\n",
    "    query2 = f'''SELECT states, SUM(registeredusers) AS registeredusers\n",
    "                FROM {table_name}\n",
    "                GROUP BY states\n",
    "                ORDER BY registeredusers \n",
    "                LIMIT 10;'''\n",
    "                \n",
    "    cursor.execute(query2)\n",
    "    table_2 = cursor.fetchall()\n",
    "    mydb.commit()\n",
    "\n",
    "    df_2 =pd.DataFrame(table_2, columns= (\"states\", \"registeredusers\"))\n",
    "\n",
    "    fig_amount_2 = px.bar(df_2, x=\"states\", y=\"registeredusers\", title=\"LAST 10 OF REGISTERED USERS\", hover_name= \"states\",\n",
    "                            color_discrete_sequence=px.colors.sequential.Bluyl_r, height= 650, width= 600)\n",
    "    fig_amount_2.show()\n",
    "\n",
    "\n",
    "    #plot 3\n",
    "\n",
    "    query3 = f'''SELECT states, AVG(registeredusers) AS registeredusers\n",
    "                FROM {table_name}\n",
    "                GROUP BY states\n",
    "                ORDER BY registeredusers;'''\n",
    "                \n",
    "    cursor.execute(query3)\n",
    "    table_3 = cursor.fetchall()\n",
    "    mydb.commit()\n",
    "\n",
    "    df_3 =pd.DataFrame(table_3, columns= (\"states\", \"registeredusers\"))\n",
    "\n",
    "    fig_amount_3 = px.bar(df_3, y=\"states\", x=\"registeredusers\", title=\"AVERAGE OF REGISTERED USERS\", hover_name= \"states\", orientation= \"h\",\n",
    "                            color_discrete_sequence=px.colors.sequential.Blues_r, height= 800, width= 1000)\n",
    "    fig_amount_3.show()"
   ]
  },
  {
   "cell_type": "code",
   "execution_count": 385,
   "metadata": {},
   "outputs": [],
   "source": [
    "#Transaction year based\n",
    "\n",
    "def Transaction_amount_count_Y(df,year): \n",
    "    tacy =df[df[\"Years\"]==year]\n",
    "    tacy.reset_index(drop=True, inplace= True)\n",
    "\n",
    "    tacyg = tacy.groupby(\"States\")[[\"Transaction_count\", \"Transaction_amount\"]].sum()\n",
    "    tacyg.reset_index(inplace=True)\n",
    "\n",
    "    fig_amount = px.bar(tacyg, x=\"States\", y=\"Transaction_amount\", title=f\"{year} TRANSACTION AMOUNT\",\n",
    "                        color_discrete_sequence=px.colors.sequential.Aggrnyl, height= 650, width= 600)\n",
    "    fig_amount.show()\n",
    "\n",
    "    fig_count = px.bar(tacyg, x=\"States\", y=\"Transaction_count\", title=f\"{year} TRANSACTION COUNT\",\n",
    "                        color_discrete_sequence=px.colors.sequential.Bluered_r, height= 650, width= 600)\n",
    "    fig_count.show()\n",
    "    url=\"https://gist.githubusercontent.com/jbrobst/56c13bbbf9d97d187fea01ca62ea5112/raw/e388c4cae20aa53cb5090210a42ebb9b765c0a36/india_states.geojson\"\n",
    "    response = requests.get(url)\n",
    "    data1 =json.loads(response.content)\n",
    "    states_name =[]\n",
    "    for feature in data1[\"features\"]:\n",
    "        states_name.append(feature[\"properties\"][\"ST_NM\"])\n",
    "        \n",
    "    states_name.sort()   \n",
    "\n",
    "    fig_india_1 =px.choropleth(tacyg, geojson=data1, locations= \"States\", featureidkey= \"properties.ST_NM\",\n",
    "                               color= \"Transaction_amount\", color_continuous_scale= \"Rainbow\", \n",
    "                               range_color= (tacyg[\"Transaction_amount\"].min(),tacyg[\"Transaction_amount\"].max()),\n",
    "                               hover_name= \"States\", title= f\"{year} TRANSACTION AMOUNT\", fitbounds= \"locations\",\n",
    "                               height= 600, width= 600)\n",
    "    fig_india_1.update_geos(visible = False)\n",
    "    fig_india_1.show() \n",
    "    \n",
    "    fig_india_2 =px.choropleth(tacyg, geojson=data1, locations= \"States\", featureidkey= \"properties.ST_NM\",\n",
    "                               color= \"Transaction_count\", color_continuous_scale= \"Rainbow\", \n",
    "                               range_color= (tacyg[\"Transaction_count\"].min(),tacyg[\"Transaction_count\"].max()),\n",
    "                               hover_name= \"States\", title= f\"{year} TRANSACTION COUNT\", fitbounds= \"locations\",\n",
    "                               height= 600, width= 600)\n",
    "    fig_india_2.update_geos(visible = False)\n",
    "    fig_india_2.show() \n",
    "    \n",
    "    return tacy"
   ]
  },
  {
   "cell_type": "code",
   "execution_count": 386,
   "metadata": {},
   "outputs": [],
   "source": [
    "#Transaction Quarter based\n",
    "\n",
    "def Transaction_amount_count_Y_Q(df,quarter):\n",
    "     \n",
    "    tacy =df[df[\"Quarter\"]==quarter]\n",
    "    tacy.reset_index(drop=True, inplace= True)\n",
    "\n",
    "    tacyg = tacy.groupby(\"States\")[[\"Transaction_count\", \"Transaction_amount\"]].sum()\n",
    "    tacyg.reset_index(inplace=True)\n",
    "\n",
    "    fig_amount = px.bar(tacyg, x=\"States\", y=\"Transaction_amount\", title=f\"{tacy['Years'].min()} YEAR {quarter} QUARTER TRANSACTION AMOUNT\",\n",
    "                        color_discrete_sequence=px.colors.sequential.Aggrnyl, height= 650, width= 600)\n",
    "    fig_amount.show()\n",
    "\n",
    "    fig_count = px.bar(tacyg, x=\"States\", y=\"Transaction_count\", title=f\"{tacy['Years'].min()} YEAR {quarter} QUARTER TRANSACTION COUNT\",\n",
    "                        color_discrete_sequence=px.colors.sequential.Bluered_r, height= 650, width= 600)\n",
    "    fig_count.show()\n",
    "    \n",
    "    url=\"https://gist.githubusercontent.com/jbrobst/56c13bbbf9d97d187fea01ca62ea5112/raw/e388c4cae20aa53cb5090210a42ebb9b765c0a36/india_states.geojson\"\n",
    "    response = requests.get(url)\n",
    "    data1 =json.loads(response.content)\n",
    "    states_name =[]\n",
    "    for feature in data1[\"features\"]:\n",
    "        states_name.append(feature[\"properties\"][\"ST_NM\"])\n",
    "        \n",
    "    states_name.sort()   \n",
    "\n",
    "    fig_india_1 =px.choropleth(tacyg, geojson=data1, locations= \"States\", featureidkey= \"properties.ST_NM\",\n",
    "                               color= \"Transaction_amount\", color_continuous_scale= \"Rainbow\", \n",
    "                               range_color= (tacyg[\"Transaction_amount\"].min(),tacyg[\"Transaction_amount\"].max()),\n",
    "                               hover_name= \"States\", title= f\"{tacy['Years'].unique()} YEAR {quarter} QUARTER TRANSACTION AMOUNT\", fitbounds= \"locations\",\n",
    "                               height= 600, width= 600)\n",
    "    fig_india_1.update_geos(visible = False)\n",
    "    fig_india_1.show() \n",
    "    \n",
    "    fig_india_2 =px.choropleth(tacyg, geojson=data1, locations= \"States\", featureidkey= \"properties.ST_NM\",\n",
    "                               color= \"Transaction_count\", color_continuous_scale= \"Rainbow\", \n",
    "                               range_color= (tacyg[\"Transaction_count\"].min(),tacyg[\"Transaction_count\"].max()),\n",
    "                               hover_name= \"States\", title= f\"{tacy['Years'].unique()} YEAR {quarter} QUARTER TRANSACTION COUNT\", fitbounds= \"locations\",\n",
    "                               height= 600, width= 600)\n",
    "    fig_india_2.update_geos(visible = False)\n",
    "    fig_india_2.show() \n",
    "    \n",
    "    return tacy"
   ]
  },
  {
   "cell_type": "code",
   "execution_count": 387,
   "metadata": {},
   "outputs": [],
   "source": [
    "#Transaction Type\n",
    "\n",
    "def Aggre_tran_transaction_type(df, state):\n",
    "    \n",
    "    tacy =df[df[\"States\"]==state]\n",
    "    tacy.reset_index(drop=True, inplace= True)\n",
    "\n",
    "    tacyg = tacy.groupby(\"Transaction_type\")[[\"Transaction_count\", \"Transaction_amount\"]].sum()\n",
    "    tacyg.reset_index(inplace=True)\n",
    "\n",
    "    fig_pie_1 = px.pie(data_frame= tacyg, names= \"Transaction_type\", values= \"Transaction_amount\",\n",
    "                    width= 600, title=f\"{state.upper()} TRANSACTION AMOUNT\", hole= 0.5)\n",
    "    fig_pie_1.show()\n",
    "    \n",
    "    fig_pie_2 = px.pie(data_frame= tacyg, names= \"Transaction_type\", values= \"Transaction_count\",\n",
    "                    width= 600, title=f\"{state.upper()} TRANSACTION COUNT\", hole= 0.5)\n",
    "    fig_pie_2.show()"
   ]
  },
  {
   "cell_type": "code",
   "execution_count": 388,
   "metadata": {},
   "outputs": [],
   "source": [
    "#Aggregated user Analysis 1\n",
    "\n",
    "def Aggre_user_plot_1(df, year):\n",
    "    \n",
    "    aguy = df[df[\"Years\"]==year]\n",
    "    aguy.reset_index(drop= True, inplace= True)\n",
    "\n",
    "\n",
    "    aguyg = pd.DataFrame(aguy.groupby(\"Brands\")[\"Transaction_count\"].sum())\n",
    "    aguyg.reset_index(inplace= True)\n",
    "\n",
    "    fig_bar_1 = px.bar(aguyg, x= \"Brands\", y= \"Transaction_count\", title= f\"{year}BRANDS AND TRANSACTION COUNT\",\n",
    "                    width= 1000, color_discrete_sequence= px.colors.sequential.haline, hover_name= \"Brands\")\n",
    "    fig_bar_1.show()\n",
    "    \n",
    "    return aguy"
   ]
  },
  {
   "cell_type": "code",
   "execution_count": 389,
   "metadata": {},
   "outputs": [],
   "source": [
    "#Aggregated user Analysis 2\n",
    "\n",
    "def Aggre_user_plot_2(df, quarter):\n",
    "    \n",
    "    aguyq = df[df[\"Quarter\"]==quarter]\n",
    "    aguyq.reset_index(drop= True, inplace= True)\n",
    "\n",
    "    aguyqg = pd.DataFrame(aguyq.groupby(\"Brands\")[\"Transaction_count\"].sum())\n",
    "    aguyqg.reset_index(inplace= True)\n",
    "\n",
    "    fig_bar_1 = px.bar(aguyqg, x= \"Brands\", y= \"Transaction_count\", title= f\"{quarter} QUARTER, BRANDS AND TRANSACTION COUNT\",\n",
    "                        width= 1000, color_discrete_sequence= px.colors.sequential.Bluered, hover_name= \"Brands\")\n",
    "    fig_bar_1.show()\n",
    "    \n",
    "    return aguyq"
   ]
  },
  {
   "cell_type": "code",
   "execution_count": 390,
   "metadata": {},
   "outputs": [],
   "source": [
    "#Aggregated user Analysis 3\n",
    "\n",
    "def Aggre_user_plot_3(df, state):\n",
    "\n",
    "    auyqs = df[df[\"States\"] == state]\n",
    "    auyqs.reset_index(drop= True, inplace= True)\n",
    "\n",
    "    fig_line_1 =px.line(auyqs, x= \"Brands\", y= \"Transaction_count\", hover_data= \"Percentage\",\n",
    "                        title= f\"{state.upper()} BRANDS, TRANSACTION COUNT, PERCENTAGE\",\n",
    "                        color_discrete_sequence=px.colors.sequential.Magenta_r, width= 1000, markers= True)\n",
    "    fig_line_1.show() "
   ]
  },
  {
   "cell_type": "code",
   "execution_count": 391,
   "metadata": {},
   "outputs": [],
   "source": [
    "# Map Insurance Districts\n",
    "\n",
    "def Map_insur_Districts(df, state):\n",
    "    \n",
    "    tacy =df[df[\"States\"]==state]\n",
    "    tacy.reset_index(drop=True, inplace= True)\n",
    "\n",
    "    tacyg = tacy.groupby(\"Districts\")[[\"Transaction_count\", \"Transaction_amount\"]].sum()\n",
    "    tacyg.reset_index(inplace=True)\n",
    "\n",
    "    fig_bar_1 = px.bar(tacyg, x= \"Transaction_amount\", y= \"Districts\", orientation= \"h\",\n",
    "                       title= f\"{state.upper()} DISTRICTS AND TRANSACTION AMOUNT\", color_discrete_sequence= px.colors.sequential.Brwnyl_r)\n",
    "    fig_bar_1.show()\n",
    "    \n",
    "    fig_bar_2 = px.bar(tacyg, x= \"Transaction_count\", y= \"Districts\", orientation= \"h\",\n",
    "                       title= f\"{state.upper()} DISTRICTS AND TRANSACTION COUNT\", color_discrete_sequence= px.colors.sequential.Blues_r)\n",
    "    fig_bar_2.show()"
   ]
  },
  {
   "cell_type": "code",
   "execution_count": 392,
   "metadata": {},
   "outputs": [],
   "source": [
    "#Map user plot 1\n",
    "def map_user_plot_1(df, year):\n",
    "    muy= df[df[\"Years\"]==year]\n",
    "    muy.reset_index(drop= True, inplace= True)\n",
    "\n",
    "\n",
    "    muyg = muy.groupby(\"States\")[[\"RegisteredUsers\", \"AppOpens\"]].sum()\n",
    "    muyg.reset_index(inplace= True)\n",
    "\n",
    "    fig_line_1 =px.line(muyg, x= \"States\", y= [\"RegisteredUsers\", \"AppOpens\"],\n",
    "                            title= f\"{year} REGISTERED USERS, APPOPENS\",\n",
    "                            color_discrete_sequence=px.colors.sequential.Bluered_r, width= 1000, height= 800, markers= True)\n",
    "    fig_line_1.show() \n",
    "    \n",
    "    return muy"
   ]
  },
  {
   "cell_type": "code",
   "execution_count": 393,
   "metadata": {},
   "outputs": [],
   "source": [
    "#Map user plot 2\n",
    "\n",
    "def map_user_plot_2(df, quarter):\n",
    "    \n",
    "    muyq= df[df[\"Quarter\"]==quarter]\n",
    "    muyq.reset_index(drop= True, inplace= True)\n",
    "\n",
    "\n",
    "    muyqg = muyq.groupby(\"States\")[[\"RegisteredUsers\", \"AppOpens\"]].sum()\n",
    "    muyqg.reset_index(inplace= True)\n",
    "\n",
    "    fig_line_1 =px.line(muyqg, x= \"States\", y= [\"RegisteredUsers\", \"AppOpens\"],\n",
    "                            title= f\"{df['Years'].unique()} YEAR {quarter} QUARTER, REGISTERED USERS, APPOPENS\",\n",
    "                            color_discrete_sequence=px.colors.sequential.Aggrnyl_r, width= 1000, height= 800, markers= True)\n",
    "    fig_line_1.show() \n",
    "    \n",
    "    return muyq"
   ]
  },
  {
   "cell_type": "code",
   "execution_count": 394,
   "metadata": {},
   "outputs": [],
   "source": [
    "#Map user plot 3\n",
    "\n",
    "def map_user_plot_3(df, states):\n",
    "\n",
    "    muyqs = df[df[\"States\"] == states ]\n",
    "    muyqs.reset_index(drop= True, inplace= True)\n",
    "\n",
    "    fig_map_user_bar_1 =px.bar(muyqs, x= \"RegisteredUsers\", y= \"Districts\", orientation= \"h\",\n",
    "                            title= f\"{states.upper()} REGISTERED USERS\",  color_discrete_sequence= px.colors.sequential.Rainbow, height= 800)\n",
    "    fig_map_user_bar_1.show()\n",
    "\n",
    "    fig_map_user_bar_2 =px.bar(muyqs, x= \"AppOpens\", y= \"Districts\", orientation= \"h\",\n",
    "                            title= f\"{states.upper()} APPOPENS\",  color_discrete_sequence= px.colors.sequential.Rainbow_r, height= 800)\n",
    "    fig_map_user_bar_2.show()"
   ]
  },
  {
   "cell_type": "code",
   "execution_count": 395,
   "metadata": {},
   "outputs": [],
   "source": [
    "# Top Insurance plot 1\n",
    "\n",
    "def Top_insurance_plot_1(df, states):\n",
    "    \n",
    "    tiy= df[df[\"States\"] == states]\n",
    "    tiy.reset_index(drop= True, inplace= True)\n",
    "\n",
    "    fig_top_insur_bar_1 =px.bar(tiy, x= \"Quarter\", y= \"Transaction_amount\", hover_data= \"Pincodes\",\n",
    "                                title= \"TRANSACTION AMOUNT\",  color_discrete_sequence= px.colors.sequential.Mint_r, height= 800)\n",
    "    fig_top_insur_bar_1.show()\n",
    "    \n",
    "    fig_top_insur_bar_2 =px.bar(tiy, x= \"Quarter\", y= \"Transaction_count\", hover_data= \"Pincodes\",\n",
    "                                title= \"TRANSACTION COUNT\",  color_discrete_sequence= px.colors.sequential.Rainbow, height= 800)\n",
    "    fig_top_insur_bar_2.show()"
   ]
  },
  {
   "cell_type": "code",
   "execution_count": 396,
   "metadata": {},
   "outputs": [],
   "source": [
    "# top user plot 1\n",
    "\n",
    "def top_user_plot_1(df, year):\n",
    "    \n",
    "    tuy = df[df[\"Years\"] == year]\n",
    "    tuy.reset_index(drop= True, inplace= True)\n",
    "\n",
    "\n",
    "    tuyg = pd.DataFrame(tuy.groupby([\"States\", \"Quarter\"])[\"RegisteredUsers\"].sum())\n",
    "    tuyg.reset_index(inplace= True)\n",
    "\n",
    "    fig_top_plot_1 = px.bar(tuyg, x= \"States\", y= \"RegisteredUsers\", color= \"Quarter\", height= 800, width= 1000,\n",
    "                            color_discrete_sequence= px.colors.sequential.Rainbow_r, hover_name= \"States\",\n",
    "                            title= f\"{year} REGISTERED USERS\")\n",
    "    fig_top_plot_1.show()\n",
    "    \n",
    "    return tuy"
   ]
  },
  {
   "cell_type": "code",
   "execution_count": 397,
   "metadata": {},
   "outputs": [],
   "source": [
    "#top user plot 2\n",
    "\n",
    "def top_user_plot_2(df, state):\n",
    "    \n",
    "    tuys= df[df[\"States\"] == state]\n",
    "    tuys.reset_index(drop= True, inplace= True)\n",
    "\n",
    "    fig_top_plot_2 = px.bar(tuys, x= \"Quarter\", y= \"RegisteredUsers\", title= f\"{state.upper()} REGISTERED USERS, PINCODES, QUARTER\",\n",
    "                            color_continuous_scale= px.colors.sequential.Magenta, height= 800, width= 1000, color= \"RegisteredUsers\",\n",
    "                            hover_data= \"Pincodes\")\n",
    "    fig_top_plot_2.show()"
   ]
  },
  {
   "cell_type": "markdown",
   "metadata": {},
   "source": [
    "### Aggregated insurance"
   ]
  },
  {
   "cell_type": "code",
   "execution_count": null,
   "metadata": {},
   "outputs": [],
   "source": [
    "tac_Y = Transaction_amount_count_Y(Aggregated_insurance, 2023)"
   ]
  },
  {
   "cell_type": "code",
   "execution_count": null,
   "metadata": {},
   "outputs": [],
   "source": [
    "Transaction_amount_count_Y_Q(tac_Y, 2)"
   ]
  },
  {
   "cell_type": "markdown",
   "metadata": {},
   "source": [
    "### Aggregated Transaction\n"
   ]
  },
  {
   "cell_type": "code",
   "execution_count": null,
   "metadata": {},
   "outputs": [],
   "source": [
    "Aggre_tran_tac_Y = Transaction_amount_count_Y(Aggregated_transaction, 2024)"
   ]
  },
  {
   "cell_type": "code",
   "execution_count": null,
   "metadata": {},
   "outputs": [],
   "source": [
    "Aggre_tran_transaction_type(Aggre_tran_tac_Y, 'Tamil Nadu')"
   ]
  },
  {
   "cell_type": "code",
   "execution_count": null,
   "metadata": {},
   "outputs": [],
   "source": [
    "Aggre_tran_tac_Y_Q = Transaction_amount_count_Y_Q(Aggre_tran_tac_Y , 1)"
   ]
  },
  {
   "cell_type": "code",
   "execution_count": null,
   "metadata": {},
   "outputs": [],
   "source": [
    "Aggre_tran_transaction_type(Aggre_tran_tac_Y_Q, 'Tamil Nadu')"
   ]
  },
  {
   "cell_type": "markdown",
   "metadata": {},
   "source": [
    "### Aggregate User"
   ]
  },
  {
   "cell_type": "code",
   "execution_count": null,
   "metadata": {},
   "outputs": [],
   "source": [
    "Aggre_user_Y = Aggre_user_plot_1(Aggregated_user, 2021)"
   ]
  },
  {
   "cell_type": "code",
   "execution_count": null,
   "metadata": {},
   "outputs": [],
   "source": [
    "Aggre_user_Y_Q = Aggre_user_plot_2(Aggre_user_Y, 1)"
   ]
  },
  {
   "cell_type": "code",
   "execution_count": null,
   "metadata": {},
   "outputs": [],
   "source": [
    "Aggre_user_plot_3(Aggre_user_Y_Q, \"Tamil Nadu\")"
   ]
  },
  {
   "cell_type": "markdown",
   "metadata": {},
   "source": [
    "### Map insurance"
   ]
  },
  {
   "cell_type": "code",
   "execution_count": null,
   "metadata": {},
   "outputs": [],
   "source": [
    "Map_insur_tac_Y = Transaction_amount_count_Y(Map_insurance, 2024)"
   ]
  },
  {
   "cell_type": "code",
   "execution_count": null,
   "metadata": {},
   "outputs": [],
   "source": [
    "Map_insur_Districts(Map_insur_tac_Y , \"West Bengal\")"
   ]
  },
  {
   "cell_type": "code",
   "execution_count": null,
   "metadata": {},
   "outputs": [],
   "source": [
    "Map_insur_tac_Y_Q = Transaction_amount_count_Y_Q(Map_insur_tac_Y  , 1)"
   ]
  },
  {
   "cell_type": "code",
   "execution_count": null,
   "metadata": {},
   "outputs": [],
   "source": [
    "Map_insur_Districts(Map_insur_tac_Y_Q, 'Tamil Nadu')"
   ]
  },
  {
   "cell_type": "markdown",
   "metadata": {},
   "source": [
    "### Map transaction"
   ]
  },
  {
   "cell_type": "code",
   "execution_count": null,
   "metadata": {},
   "outputs": [],
   "source": [
    "Map_tran_tac_Y = Transaction_amount_count_Y(Map_transaction, 2024)"
   ]
  },
  {
   "cell_type": "code",
   "execution_count": null,
   "metadata": {},
   "outputs": [],
   "source": [
    "Map_insur_Districts(Map_tran_tac_Y , \"West Bengal\")"
   ]
  },
  {
   "cell_type": "code",
   "execution_count": null,
   "metadata": {},
   "outputs": [],
   "source": [
    "Map_tran_tac_Y_Q = Transaction_amount_count_Y_Q(Map_tran_tac_Y  , 1)"
   ]
  },
  {
   "cell_type": "code",
   "execution_count": null,
   "metadata": {},
   "outputs": [],
   "source": [
    "Map_insur_Districts(Map_tran_tac_Y_Q, 'Tamil Nadu')"
   ]
  },
  {
   "cell_type": "markdown",
   "metadata": {},
   "source": [
    "### Map user"
   ]
  },
  {
   "cell_type": "code",
   "execution_count": null,
   "metadata": {},
   "outputs": [],
   "source": [
    "Map_user_Y = map_user_plot_1(Map_user, 2024)"
   ]
  },
  {
   "cell_type": "code",
   "execution_count": null,
   "metadata": {},
   "outputs": [],
   "source": [
    "Map_user_Y_Q = map_user_plot_2(Map_user_Y, 1)"
   ]
  },
  {
   "cell_type": "code",
   "execution_count": null,
   "metadata": {},
   "outputs": [],
   "source": [
    "map_user_plot_3(Map_user_Y_Q, \"Tamil Nadu\")"
   ]
  },
  {
   "cell_type": "markdown",
   "metadata": {},
   "source": [
    "### Top insurance"
   ]
  },
  {
   "cell_type": "code",
   "execution_count": null,
   "metadata": {},
   "outputs": [],
   "source": [
    "Top_insur_tac_Y = Transaction_amount_count_Y(Top_insurance, 2023)"
   ]
  },
  {
   "cell_type": "code",
   "execution_count": null,
   "metadata": {},
   "outputs": [],
   "source": [
    "Top_insurance_plot_1(Top_insur_tac_Y, \"Tamil Nadu\")"
   ]
  },
  {
   "cell_type": "code",
   "execution_count": null,
   "metadata": {},
   "outputs": [],
   "source": [
    "Top_insur_tac_Y_Q = Transaction_amount_count_Y_Q(Top_insur_tac_Y  , 3)"
   ]
  },
  {
   "cell_type": "markdown",
   "metadata": {},
   "source": [
    "### Top transaction"
   ]
  },
  {
   "cell_type": "code",
   "execution_count": null,
   "metadata": {},
   "outputs": [],
   "source": [
    "Top_tran_tac_Y = Transaction_amount_count_Y(Top_transaction, 2023)"
   ]
  },
  {
   "cell_type": "code",
   "execution_count": null,
   "metadata": {},
   "outputs": [],
   "source": [
    "Top_insurance_plot_1(Top_tran_tac_Y, \"Tamil Nadu\")"
   ]
  },
  {
   "cell_type": "code",
   "execution_count": null,
   "metadata": {},
   "outputs": [],
   "source": [
    "Top_tran_tac_Y_Q = Transaction_amount_count_Y_Q(Top_tran_tac_Y  , 3)"
   ]
  },
  {
   "cell_type": "markdown",
   "metadata": {},
   "source": [
    "### Top user"
   ]
  },
  {
   "cell_type": "code",
   "execution_count": null,
   "metadata": {},
   "outputs": [],
   "source": [
    "Top_user_Y = top_user_plot_1(Top_user, 2021)"
   ]
  },
  {
   "cell_type": "code",
   "execution_count": null,
   "metadata": {},
   "outputs": [],
   "source": [
    "top_user_plot_2(Top_user_Y, \"Tamil Nadu\")"
   ]
  }
 ],
 "metadata": {
  "language_info": {
   "name": "python"
  }
 },
 "nbformat": 4,
 "nbformat_minor": 2
}
