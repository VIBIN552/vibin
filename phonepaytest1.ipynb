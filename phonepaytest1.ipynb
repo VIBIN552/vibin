{
 "cells": [
  {
   "cell_type": "code",
   "execution_count": 290,
   "metadata": {},
   "outputs": [],
   "source": [
    "import pandas as pd\n",
    "import psycopg2\n",
    "import plotly.express as px\n",
    "import json\n",
    "import requests"
   ]
  },
  {
   "cell_type": "code",
   "execution_count": 364,
   "metadata": {},
   "outputs": [],
   "source": [
    "#Data Frame Creation\n",
    "\n",
    "#SQL connection\n",
    "\n",
    "mydb = psycopg2.connect(host = \"localhost\",\n",
    "                        user = \"postgres\",\n",
    "                        port = \"5432\",\n",
    "                        database = \"phonepay_data\",\n",
    "                        password = \"John@2394\")\n",
    "cursor =mydb.cursor()\n",
    "\n",
    "#Aggregated Insurance df\n",
    "\n",
    "cursor.execute(\"SELECT * FROM aggregated_insurance\")\n",
    "mydb.commit()\n",
    "table1 = cursor.fetchall()\n",
    "\n",
    "Aggregated_insurance = pd.DataFrame(table1, columns=(\"States\", \"Years\", \"Quarter\", \n",
    "                                                     \"Transaction_type\", \"Transaction_count\", \"Transaction_amount\"))\n",
    "\n",
    "#Aggregated transaction df\n",
    "\n",
    "cursor.execute(\"SELECT * FROM aggregated_transaction\")\n",
    "mydb.commit()\n",
    "table2 = cursor.fetchall()\n",
    "\n",
    "Aggregated_transaction = pd.DataFrame(table2, columns=(\"States\", \"Years\", \"Quarter\", \n",
    "                                                     \"Transaction_type\", \"Transaction_count\", \"Transaction_amount\"))\n",
    "\n",
    "#Aggregated User df\n",
    "\n",
    "cursor.execute(\"SELECT * FROM aggregated_user\")\n",
    "mydb.commit()\n",
    "table3 = cursor.fetchall()\n",
    "\n",
    "Aggregated_user = pd.DataFrame(table3, columns=(\"States\", \"Years\", \"Quarter\", \n",
    "                                                     \"Brands\", \"Transaction_count\", \"Percentage\"))\n",
    "\n",
    "#Map Insurance df\n",
    "\n",
    "cursor.execute(\"SELECT * FROM map_insurance\")\n",
    "mydb.commit()\n",
    "table4 = cursor.fetchall()\n",
    "\n",
    "Map_insurance = pd.DataFrame(table4, columns=(\"States\", \"Years\", \"Quarter\", \n",
    "                                                     \"Districts\", \"Transaction_count\", \"Transaction_amount\"))\n",
    "\n",
    "#Map transaction df\n",
    "\n",
    "cursor.execute(\"SELECT * FROM map_transaction\")\n",
    "mydb.commit()\n",
    "table5 = cursor.fetchall()\n",
    "\n",
    "Map_transaction = pd.DataFrame(table5, columns=(\"States\", \"Years\", \"Quarter\", \n",
    "                                                     \"Districts\", \"Transaction_count\", \"Transaction_amount\"))\n",
    "\n",
    "\n",
    "#Map user df\n",
    "\n",
    "cursor.execute(\"SELECT * FROM map_user\")\n",
    "mydb.commit()\n",
    "table6 = cursor.fetchall()\n",
    "\n",
    "Map_user = pd.DataFrame(table6, columns=(\"States\", \"Years\", \"Quarter\", \n",
    "                                                     \"Districts\", \"RegisteredUsers\", \"AppOpens\"))\n",
    "\n",
    "#top Insurance df\n",
    "\n",
    "cursor.execute(\"SELECT * FROM top_insurance\")\n",
    "mydb.commit()\n",
    "table7 = cursor.fetchall()\n",
    "\n",
    "Top_insurance = pd.DataFrame(table7, columns=(\"States\", \"Years\", \"Quarter\", \n",
    "                                                     \"Pincodes\", \"Transaction_count\", \"Transaction_amount\"))\n",
    "\n",
    "#top transaction df\n",
    "\n",
    "cursor.execute(\"SELECT * FROM top_transaction\")\n",
    "mydb.commit()\n",
    "table8= cursor.fetchall()\n",
    "\n",
    "Top_transaction = pd.DataFrame(table8, columns=(\"States\", \"Years\", \"Quarter\", \n",
    "                                                     \"Pincodes\", \"Transaction_count\", \"Transaction_amount\"))\n",
    "\n",
    "\n",
    "#Top user df\n",
    "\n",
    "cursor.execute(\"SELECT * FROM top_user\")\n",
    "mydb.commit()\n",
    "table9 = cursor.fetchall()\n",
    "\n",
    "Top_user = pd.DataFrame(table9, columns=(\"States\", \"Years\", \"Quarter\", \n",
    "                                                     \"Pincodes\", \"RegisteredUsers\"))\n",
    "\n"
   ]
  },
  {
   "cell_type": "code",
   "execution_count": 352,
   "metadata": {},
   "outputs": [],
   "source": [
    "#sql connection\n",
    "def top_chart_transaction_amount(table_name):\n",
    "    \n",
    "    mydb = psycopg2.connect(host = \"localhost\",\n",
    "                            user = \"postgres\",\n",
    "                            port = \"5432\",\n",
    "                            database = \"phonepay_data\",\n",
    "                            password = \"John@2394\")\n",
    "    cursor =mydb.cursor()\n",
    "\n",
    "    #plot 1\n",
    "\n",
    "    query1 = f'''SELECT states, SUM(transaction_amount) AS transaction_amount\n",
    "                FROM {table_name}\n",
    "                GROUP BY states\n",
    "                ORDER BY transaction_amount DESC\n",
    "                LIMIT 10;'''\n",
    "                \n",
    "    cursor.execute(query1)\n",
    "    table_1 = cursor.fetchall()\n",
    "    mydb.commit()\n",
    "\n",
    "    df_1 =pd.DataFrame(table_1, columns= (\"states\", \"transaction_amount\"))\n",
    "\n",
    "    fig_amount_1 = px.bar(df_1, x=\"states\", y=\"transaction_amount\", title=\"TRANSACTION AMOUNT\", hover_name= \"states\",\n",
    "                            color_discrete_sequence=px.colors.sequential.Aggrnyl, height= 650, width= 600)\n",
    "    fig_amount_1.show()\n",
    "\n",
    "\n",
    "    #plot 2\n",
    "\n",
    "    query2 = f'''SELECT states, SUM(transaction_amount) AS transaction_amount\n",
    "                FROM {table_name}\n",
    "                GROUP BY states\n",
    "                ORDER BY transaction_amount \n",
    "                LIMIT 10;'''\n",
    "                \n",
    "    cursor.execute(query2)\n",
    "    table_2 = cursor.fetchall()\n",
    "    mydb.commit()\n",
    "\n",
    "    df_2 =pd.DataFrame(table_2, columns= (\"states\", \"transaction_amount\"))\n",
    "\n",
    "    fig_amount_2 = px.bar(df_2, x=\"states\", y=\"transaction_amount\", title=\"TRANSACTION AMOUNT\", hover_name= \"states\",\n",
    "                            color_discrete_sequence=px.colors.sequential.Bluyl_r, height= 650, width= 600)\n",
    "    fig_amount_2.show()\n",
    "\n",
    "\n",
    "    #plot 3\n",
    "\n",
    "    query3 = f'''SELECT states, AVG(transaction_amount) AS transaction_amount\n",
    "                FROM {table_name}\n",
    "                GROUP BY states\n",
    "                ORDER BY transaction_amount;'''\n",
    "                \n",
    "    cursor.execute(query3)\n",
    "    table_3 = cursor.fetchall()\n",
    "    mydb.commit()\n",
    "\n",
    "    df_3 =pd.DataFrame(table_3, columns= (\"states\", \"transaction_amount\"))\n",
    "\n",
    "    fig_amount_3 = px.bar(df_3, y=\"states\", x=\"transaction_amount\", title=\"TRANSACTION AMOUNT\", hover_name= \"states\", orientation= \"h\",\n",
    "                            color_discrete_sequence=px.colors.sequential.Blues_r, height= 800, width= 1000)\n",
    "    fig_amount_3.show()\n",
    "              "
   ]
  },
  {
   "cell_type": "code",
   "execution_count": 362,
   "metadata": {},
   "outputs": [],
   "source": [
    "#sql connection\n",
    "\n",
    "def top_chart_transaction_count(table_name):\n",
    "    \n",
    "    mydb = psycopg2.connect(host = \"localhost\",\n",
    "                            user = \"postgres\",\n",
    "                            port = \"5432\",\n",
    "                            database = \"phonepay_data\",\n",
    "                            password = \"John@2394\")\n",
    "    cursor =mydb.cursor()\n",
    "\n",
    "    #plot 1\n",
    "\n",
    "    query1 = f'''SELECT states, SUM(transaction_count) AS transaction_count\n",
    "                FROM {table_name}\n",
    "                GROUP BY states\n",
    "                ORDER BY transaction_count DESC\n",
    "                LIMIT 10;'''\n",
    "                \n",
    "    cursor.execute(query1)\n",
    "    table_1 = cursor.fetchall()\n",
    "    mydb.commit()\n",
    "\n",
    "    df_1 =pd.DataFrame(table_1, columns= (\"states\", \"transaction_count\"))\n",
    "\n",
    "    fig_amount_1 = px.bar(df_1, x=\"states\", y=\"transaction_count\", title=\"TRANSACTION COUNT\", hover_name= \"states\",\n",
    "                            color_discrete_sequence=px.colors.sequential.Aggrnyl, height= 650, width= 600)\n",
    "    fig_amount_1.show()\n",
    "\n",
    "\n",
    "    #plot 2\n",
    "\n",
    "    query2 = f'''SELECT states, SUM(transaction_count) AS transaction_count\n",
    "                FROM {table_name}\n",
    "                GROUP BY states\n",
    "                ORDER BY transaction_count \n",
    "                LIMIT 10;'''\n",
    "                \n",
    "    cursor.execute(query2)\n",
    "    table_2 = cursor.fetchall()\n",
    "    mydb.commit()\n",
    "\n",
    "    df_2 =pd.DataFrame(table_2, columns= (\"states\", \"transaction_count\"))\n",
    "\n",
    "    fig_amount_2 = px.bar(df_2, x=\"states\", y=\"transaction_count\", title=\"TRANSACTION COUNT\", hover_name= \"states\",\n",
    "                            color_discrete_sequence=px.colors.sequential.Bluyl_r, height= 650, width= 600)\n",
    "    fig_amount_2.show()\n",
    "\n",
    "\n",
    "    #plot 3\n",
    "\n",
    "    query3 = f'''SELECT states, AVG(transaction_count) AS transaction_count\n",
    "                FROM {table_name}\n",
    "                GROUP BY states\n",
    "                ORDER BY transaction_count;'''\n",
    "                \n",
    "    cursor.execute(query3)\n",
    "    table_3 = cursor.fetchall()\n",
    "    mydb.commit()\n",
    "\n",
    "    df_3 =pd.DataFrame(table_3, columns= (\"states\", \"transaction_count\"))\n",
    "\n",
    "    fig_amount_3 = px.bar(df_3, y=\"states\", x=\"transaction_count\", title=\"TRANSACTION count\", hover_name= \"states\", orientation= \"h\",\n",
    "                            color_discrete_sequence=px.colors.sequential.Blues_r, height= 800, width= 1000)\n",
    "    fig_amount_3.show()\n",
    "              "
   ]
  },
  {
   "cell_type": "code",
   "execution_count": 370,
   "metadata": {},
   "outputs": [],
   "source": [
    "#sql connection\n",
    "def top_chart_registered_users(table_name, state):\n",
    "    \n",
    "    mydb = psycopg2.connect(host = \"localhost\",\n",
    "                            user = \"postgres\",\n",
    "                            port = \"5432\",\n",
    "                            database = \"phonepay_data\",\n",
    "                            password = \"John@2394\")\n",
    "    cursor =mydb.cursor()\n",
    "\n",
    "    #plot 1\n",
    "\n",
    "    query1 = f'''SELECT districts, SUM(registeredusers) AS registeredusers\n",
    "                 FROM {table_name}\n",
    "                 WHERE states='{state}'\n",
    "                 GROUP BY districts\n",
    "                 ORDER BY registeredusers DESC\n",
    "                 LIMIT 10;'''\n",
    "                \n",
    "    cursor.execute(query1)\n",
    "    table_1 = cursor.fetchall()\n",
    "    mydb.commit()\n",
    "\n",
    "    df_1 =pd.DataFrame(table_1, columns= (\"districts\", \"registeredusers\"))\n",
    "\n",
    "    fig_amount_1 = px.bar(df_1, x=\"districts\", y=\"registeredusers\", title=\"TOP 10 OF REGISTERED USERS\", hover_name= \"districts\",\n",
    "                            color_discrete_sequence=px.colors.sequential.Aggrnyl, height= 650, width= 600)\n",
    "    fig_amount_1.show()\n",
    "\n",
    "\n",
    "    #plot 2\n",
    "\n",
    "    query2 = f'''SELECT districts, SUM(registeredusers) AS registeredusers\n",
    "                FROM {table_name}\n",
    "                WHERE states='{state}'\n",
    "                GROUP BY districts\n",
    "                ORDER BY registeredusers \n",
    "                LIMIT 10;'''\n",
    "                \n",
    "    cursor.execute(query2)\n",
    "    table_2 = cursor.fetchall()\n",
    "    mydb.commit()\n",
    "\n",
    "    df_2 =pd.DataFrame(table_2, columns= (\"districts\", \"registeredusers\"))\n",
    "\n",
    "    fig_amount_2 = px.bar(df_2, x=\"districts\", y=\"registeredusers\", title=\"LAST 10 OF REGISTERED USERS\", hover_name= \"districts\",\n",
    "                            color_discrete_sequence=px.colors.sequential.Bluyl_r, height= 650, width= 600)\n",
    "    fig_amount_2.show()\n",
    "\n",
    "\n",
    "    #plot 3\n",
    "\n",
    "    query3 = f'''SELECT districts, AVG(registeredusers) AS registeredusers\n",
    "                FROM {table_name}\n",
    "                WHERE states= '{state}'\n",
    "                GROUP BY districts\n",
    "                ORDER BY registeredusers;'''\n",
    "                \n",
    "    cursor.execute(query3)\n",
    "    table_3 = cursor.fetchall()\n",
    "    mydb.commit()\n",
    "\n",
    "    df_3 =pd.DataFrame(table_3, columns= (\"districts\", \"registeredusers\"))\n",
    "\n",
    "    fig_amount_3 = px.bar(df_3, y=\"districts\", x=\"registeredusers\", title=\"AVERAGE OF REGISTERED USERS\", hover_name= \"districts\", orientation= \"h\",\n",
    "                            color_discrete_sequence=px.colors.sequential.Blues_r, height= 800, width= 1000)\n",
    "    fig_amount_3.show()\n",
    "              "
   ]
  },
  {
   "cell_type": "code",
   "execution_count": 374,
   "metadata": {},
   "outputs": [],
   "source": [
    "#sql connection\n",
    "def top_chart_appopens(table_name, state):\n",
    "    \n",
    "    mydb = psycopg2.connect(host = \"localhost\",\n",
    "                            user = \"postgres\",\n",
    "                            port = \"5432\",\n",
    "                            database = \"phonepay_data\",\n",
    "                            password = \"John@2394\")\n",
    "    cursor =mydb.cursor()\n",
    "\n",
    "    #plot 1\n",
    "\n",
    "    query1 = f'''SELECT districts, SUM(appopens) AS appopens\n",
    "                 FROM {table_name}\n",
    "                 WHERE states='{state}'\n",
    "                 GROUP BY districts\n",
    "                 ORDER BY appopens DESC\n",
    "                 LIMIT 10;'''\n",
    "                \n",
    "    cursor.execute(query1)\n",
    "    table_1 = cursor.fetchall()\n",
    "    mydb.commit()\n",
    "\n",
    "    df_1 =pd.DataFrame(table_1, columns= (\"districts\", \"appopens\"))\n",
    "\n",
    "    fig_amount_1 = px.bar(df_1, x=\"districts\", y=\"appopens\", title=\"TOP 10 OF APPOPENS\", hover_name= \"districts\",\n",
    "                            color_discrete_sequence=px.colors.sequential.Aggrnyl, height= 650, width= 600)\n",
    "    fig_amount_1.show()\n",
    "\n",
    "\n",
    "    #plot 2\n",
    "\n",
    "    query2 = f'''SELECT districts, SUM(appopens) AS appopens\n",
    "                FROM {table_name}\n",
    "                WHERE states='{state}'\n",
    "                GROUP BY districts\n",
    "                ORDER BY appopens\n",
    "                LIMIT 10;'''\n",
    "                \n",
    "    cursor.execute(query2)\n",
    "    table_2 = cursor.fetchall()\n",
    "    mydb.commit()\n",
    "\n",
    "    df_2 =pd.DataFrame(table_2, columns= (\"districts\", \"appopens\"))\n",
    "\n",
    "    fig_amount_2 = px.bar(df_2, x=\"districts\", y=\"appopens\", title=\"LAST 10 OF APPOPENS\", hover_name= \"districts\",\n",
    "                            color_discrete_sequence=px.colors.sequential.Bluyl_r, height= 650, width= 600)\n",
    "    fig_amount_2.show()\n",
    "\n",
    "\n",
    "    #plot 3\n",
    "\n",
    "    query3 = f'''SELECT districts, AVG(appopens) AS appopens\n",
    "                FROM {table_name}\n",
    "                WHERE states= '{state}'\n",
    "                GROUP BY districts\n",
    "                ORDER BY appopens;'''\n",
    "                \n",
    "    cursor.execute(query3)\n",
    "    table_3 = cursor.fetchall()\n",
    "    mydb.commit()\n",
    "\n",
    "    df_3 =pd.DataFrame(table_3, columns= (\"districts\", \"appopens\"))\n",
    "\n",
    "    fig_amount_3 = px.bar(df_3, y=\"districts\", x=\"appopens\", title=\"AVERAGE OF APPOPENS\", hover_name= \"districts\", orientation= \"h\",\n",
    "                            color_discrete_sequence=px.colors.sequential.Blues_r, height= 800, width= 1000)\n",
    "    fig_amount_3.show()\n",
    "              "
   ]
  },
  {
   "cell_type": "code",
   "execution_count": 376,
   "metadata": {},
   "outputs": [],
   "source": [
    "#sql connection\n",
    "def top_chart_registeredusers(table_name):\n",
    "    \n",
    "    mydb = psycopg2.connect(host = \"localhost\",\n",
    "                            user = \"postgres\",\n",
    "                            port = \"5432\",\n",
    "                            database = \"phonepay_data\",\n",
    "                            password = \"John@2394\")\n",
    "    cursor =mydb.cursor()\n",
    "\n",
    "    #plot 1\n",
    "\n",
    "    query1 = f'''SELECT states, SUM(registeredusers) AS registeredusers\n",
    "                 FROM {table_name}\n",
    "                 GROUP BY states\n",
    "                 ORDER BY registeredusers DESC\n",
    "                 LIMIT 10;'''\n",
    "                \n",
    "    cursor.execute(query1)\n",
    "    table_1 = cursor.fetchall()\n",
    "    mydb.commit()\n",
    "\n",
    "    df_1 =pd.DataFrame(table_1, columns= (\"states\", \"registeredusers\"))\n",
    "\n",
    "    fig_amount_1 = px.bar(df_1, x=\"states\", y=\"registeredusers\", title=\"TOP 10 OF REGISTERED USERS\", hover_name= \"states\",\n",
    "                            color_discrete_sequence=px.colors.sequential.Aggrnyl, height= 650, width= 600)\n",
    "    fig_amount_1.show()\n",
    "\n",
    "\n",
    "    #plot 2\n",
    "\n",
    "    query2 = f'''SELECT states, SUM(registeredusers) AS registeredusers\n",
    "                FROM {table_name}\n",
    "                GROUP BY states\n",
    "                ORDER BY registeredusers \n",
    "                LIMIT 10;'''\n",
    "                \n",
    "    cursor.execute(query2)\n",
    "    table_2 = cursor.fetchall()\n",
    "    mydb.commit()\n",
    "\n",
    "    df_2 =pd.DataFrame(table_2, columns= (\"states\", \"registeredusers\"))\n",
    "\n",
    "    fig_amount_2 = px.bar(df_2, x=\"states\", y=\"registeredusers\", title=\"LAST 10 OF REGISTERED USERS\", hover_name= \"states\",\n",
    "                            color_discrete_sequence=px.colors.sequential.Bluyl_r, height= 650, width= 600)\n",
    "    fig_amount_2.show()\n",
    "\n",
    "\n",
    "    #plot 3\n",
    "\n",
    "    query3 = f'''SELECT states, AVG(registeredusers) AS registeredusers\n",
    "                FROM {table_name}\n",
    "                GROUP BY states\n",
    "                ORDER BY registeredusers;'''\n",
    "                \n",
    "    cursor.execute(query3)\n",
    "    table_3 = cursor.fetchall()\n",
    "    mydb.commit()\n",
    "\n",
    "    df_3 =pd.DataFrame(table_3, columns= (\"states\", \"registeredusers\"))\n",
    "\n",
    "    fig_amount_3 = px.bar(df_3, y=\"states\", x=\"registeredusers\", title=\"AVERAGE OF REGISTERED USERS\", hover_name= \"states\", orientation= \"h\",\n",
    "                            color_discrete_sequence=px.colors.sequential.Blues_r, height= 800, width= 1000)\n",
    "    fig_amount_3.show()\n",
    "              "
   ]
  },
  {
   "cell_type": "code",
   "execution_count": 377,
   "metadata": {},
   "outputs": [
    {
     "data": {
      "application/vnd.plotly.v1+json": {
       "config": {
        "plotlyServerURL": "https://plot.ly"
       },
       "data": [
        {
         "alignmentgroup": "True",
         "hovertemplate": "<b>%{hovertext}</b><br><br>states=%{x}<br>registeredusers=%{y}<extra></extra>",
         "hovertext": [
          "Delhi",
          "Karnataka",
          "Uttar Pradesh",
          "Maharashtra",
          "Haryana",
          "Telangana",
          "Rajasthan",
          "Gujarat",
          "Madhya Pradesh",
          "Bihar"
         ],
         "legendgroup": "",
         "marker": {
          "color": "rgb(36, 86, 104)",
          "pattern": {
           "shape": ""
          }
         },
         "name": "",
         "offsetgroup": "",
         "orientation": "v",
         "showlegend": false,
         "textposition": "auto",
         "type": "bar",
         "x": [
          "Delhi",
          "Karnataka",
          "Uttar Pradesh",
          "Maharashtra",
          "Haryana",
          "Telangana",
          "Rajasthan",
          "Gujarat",
          "Madhya Pradesh",
          "Bihar"
         ],
         "xaxis": "x",
         "y": [
          149099106,
          137994386,
          132568682,
          132552494,
          113791710,
          108854202,
          99976492,
          82687570,
          78843506,
          72624838
         ],
         "yaxis": "y"
        }
       ],
       "layout": {
        "barmode": "relative",
        "height": 650,
        "legend": {
         "tracegroupgap": 0
        },
        "template": {
         "data": {
          "bar": [
           {
            "error_x": {
             "color": "#2a3f5f"
            },
            "error_y": {
             "color": "#2a3f5f"
            },
            "marker": {
             "line": {
              "color": "#E5ECF6",
              "width": 0.5
             },
             "pattern": {
              "fillmode": "overlay",
              "size": 10,
              "solidity": 0.2
             }
            },
            "type": "bar"
           }
          ],
          "barpolar": [
           {
            "marker": {
             "line": {
              "color": "#E5ECF6",
              "width": 0.5
             },
             "pattern": {
              "fillmode": "overlay",
              "size": 10,
              "solidity": 0.2
             }
            },
            "type": "barpolar"
           }
          ],
          "carpet": [
           {
            "aaxis": {
             "endlinecolor": "#2a3f5f",
             "gridcolor": "white",
             "linecolor": "white",
             "minorgridcolor": "white",
             "startlinecolor": "#2a3f5f"
            },
            "baxis": {
             "endlinecolor": "#2a3f5f",
             "gridcolor": "white",
             "linecolor": "white",
             "minorgridcolor": "white",
             "startlinecolor": "#2a3f5f"
            },
            "type": "carpet"
           }
          ],
          "choropleth": [
           {
            "colorbar": {
             "outlinewidth": 0,
             "ticks": ""
            },
            "type": "choropleth"
           }
          ],
          "contour": [
           {
            "colorbar": {
             "outlinewidth": 0,
             "ticks": ""
            },
            "colorscale": [
             [
              0,
              "#0d0887"
             ],
             [
              0.1111111111111111,
              "#46039f"
             ],
             [
              0.2222222222222222,
              "#7201a8"
             ],
             [
              0.3333333333333333,
              "#9c179e"
             ],
             [
              0.4444444444444444,
              "#bd3786"
             ],
             [
              0.5555555555555556,
              "#d8576b"
             ],
             [
              0.6666666666666666,
              "#ed7953"
             ],
             [
              0.7777777777777778,
              "#fb9f3a"
             ],
             [
              0.8888888888888888,
              "#fdca26"
             ],
             [
              1,
              "#f0f921"
             ]
            ],
            "type": "contour"
           }
          ],
          "contourcarpet": [
           {
            "colorbar": {
             "outlinewidth": 0,
             "ticks": ""
            },
            "type": "contourcarpet"
           }
          ],
          "heatmap": [
           {
            "colorbar": {
             "outlinewidth": 0,
             "ticks": ""
            },
            "colorscale": [
             [
              0,
              "#0d0887"
             ],
             [
              0.1111111111111111,
              "#46039f"
             ],
             [
              0.2222222222222222,
              "#7201a8"
             ],
             [
              0.3333333333333333,
              "#9c179e"
             ],
             [
              0.4444444444444444,
              "#bd3786"
             ],
             [
              0.5555555555555556,
              "#d8576b"
             ],
             [
              0.6666666666666666,
              "#ed7953"
             ],
             [
              0.7777777777777778,
              "#fb9f3a"
             ],
             [
              0.8888888888888888,
              "#fdca26"
             ],
             [
              1,
              "#f0f921"
             ]
            ],
            "type": "heatmap"
           }
          ],
          "heatmapgl": [
           {
            "colorbar": {
             "outlinewidth": 0,
             "ticks": ""
            },
            "colorscale": [
             [
              0,
              "#0d0887"
             ],
             [
              0.1111111111111111,
              "#46039f"
             ],
             [
              0.2222222222222222,
              "#7201a8"
             ],
             [
              0.3333333333333333,
              "#9c179e"
             ],
             [
              0.4444444444444444,
              "#bd3786"
             ],
             [
              0.5555555555555556,
              "#d8576b"
             ],
             [
              0.6666666666666666,
              "#ed7953"
             ],
             [
              0.7777777777777778,
              "#fb9f3a"
             ],
             [
              0.8888888888888888,
              "#fdca26"
             ],
             [
              1,
              "#f0f921"
             ]
            ],
            "type": "heatmapgl"
           }
          ],
          "histogram": [
           {
            "marker": {
             "pattern": {
              "fillmode": "overlay",
              "size": 10,
              "solidity": 0.2
             }
            },
            "type": "histogram"
           }
          ],
          "histogram2d": [
           {
            "colorbar": {
             "outlinewidth": 0,
             "ticks": ""
            },
            "colorscale": [
             [
              0,
              "#0d0887"
             ],
             [
              0.1111111111111111,
              "#46039f"
             ],
             [
              0.2222222222222222,
              "#7201a8"
             ],
             [
              0.3333333333333333,
              "#9c179e"
             ],
             [
              0.4444444444444444,
              "#bd3786"
             ],
             [
              0.5555555555555556,
              "#d8576b"
             ],
             [
              0.6666666666666666,
              "#ed7953"
             ],
             [
              0.7777777777777778,
              "#fb9f3a"
             ],
             [
              0.8888888888888888,
              "#fdca26"
             ],
             [
              1,
              "#f0f921"
             ]
            ],
            "type": "histogram2d"
           }
          ],
          "histogram2dcontour": [
           {
            "colorbar": {
             "outlinewidth": 0,
             "ticks": ""
            },
            "colorscale": [
             [
              0,
              "#0d0887"
             ],
             [
              0.1111111111111111,
              "#46039f"
             ],
             [
              0.2222222222222222,
              "#7201a8"
             ],
             [
              0.3333333333333333,
              "#9c179e"
             ],
             [
              0.4444444444444444,
              "#bd3786"
             ],
             [
              0.5555555555555556,
              "#d8576b"
             ],
             [
              0.6666666666666666,
              "#ed7953"
             ],
             [
              0.7777777777777778,
              "#fb9f3a"
             ],
             [
              0.8888888888888888,
              "#fdca26"
             ],
             [
              1,
              "#f0f921"
             ]
            ],
            "type": "histogram2dcontour"
           }
          ],
          "mesh3d": [
           {
            "colorbar": {
             "outlinewidth": 0,
             "ticks": ""
            },
            "type": "mesh3d"
           }
          ],
          "parcoords": [
           {
            "line": {
             "colorbar": {
              "outlinewidth": 0,
              "ticks": ""
             }
            },
            "type": "parcoords"
           }
          ],
          "pie": [
           {
            "automargin": true,
            "type": "pie"
           }
          ],
          "scatter": [
           {
            "fillpattern": {
             "fillmode": "overlay",
             "size": 10,
             "solidity": 0.2
            },
            "type": "scatter"
           }
          ],
          "scatter3d": [
           {
            "line": {
             "colorbar": {
              "outlinewidth": 0,
              "ticks": ""
             }
            },
            "marker": {
             "colorbar": {
              "outlinewidth": 0,
              "ticks": ""
             }
            },
            "type": "scatter3d"
           }
          ],
          "scattercarpet": [
           {
            "marker": {
             "colorbar": {
              "outlinewidth": 0,
              "ticks": ""
             }
            },
            "type": "scattercarpet"
           }
          ],
          "scattergeo": [
           {
            "marker": {
             "colorbar": {
              "outlinewidth": 0,
              "ticks": ""
             }
            },
            "type": "scattergeo"
           }
          ],
          "scattergl": [
           {
            "marker": {
             "colorbar": {
              "outlinewidth": 0,
              "ticks": ""
             }
            },
            "type": "scattergl"
           }
          ],
          "scattermapbox": [
           {
            "marker": {
             "colorbar": {
              "outlinewidth": 0,
              "ticks": ""
             }
            },
            "type": "scattermapbox"
           }
          ],
          "scatterpolar": [
           {
            "marker": {
             "colorbar": {
              "outlinewidth": 0,
              "ticks": ""
             }
            },
            "type": "scatterpolar"
           }
          ],
          "scatterpolargl": [
           {
            "marker": {
             "colorbar": {
              "outlinewidth": 0,
              "ticks": ""
             }
            },
            "type": "scatterpolargl"
           }
          ],
          "scatterternary": [
           {
            "marker": {
             "colorbar": {
              "outlinewidth": 0,
              "ticks": ""
             }
            },
            "type": "scatterternary"
           }
          ],
          "surface": [
           {
            "colorbar": {
             "outlinewidth": 0,
             "ticks": ""
            },
            "colorscale": [
             [
              0,
              "#0d0887"
             ],
             [
              0.1111111111111111,
              "#46039f"
             ],
             [
              0.2222222222222222,
              "#7201a8"
             ],
             [
              0.3333333333333333,
              "#9c179e"
             ],
             [
              0.4444444444444444,
              "#bd3786"
             ],
             [
              0.5555555555555556,
              "#d8576b"
             ],
             [
              0.6666666666666666,
              "#ed7953"
             ],
             [
              0.7777777777777778,
              "#fb9f3a"
             ],
             [
              0.8888888888888888,
              "#fdca26"
             ],
             [
              1,
              "#f0f921"
             ]
            ],
            "type": "surface"
           }
          ],
          "table": [
           {
            "cells": {
             "fill": {
              "color": "#EBF0F8"
             },
             "line": {
              "color": "white"
             }
            },
            "header": {
             "fill": {
              "color": "#C8D4E3"
             },
             "line": {
              "color": "white"
             }
            },
            "type": "table"
           }
          ]
         },
         "layout": {
          "annotationdefaults": {
           "arrowcolor": "#2a3f5f",
           "arrowhead": 0,
           "arrowwidth": 1
          },
          "autotypenumbers": "strict",
          "coloraxis": {
           "colorbar": {
            "outlinewidth": 0,
            "ticks": ""
           }
          },
          "colorscale": {
           "diverging": [
            [
             0,
             "#8e0152"
            ],
            [
             0.1,
             "#c51b7d"
            ],
            [
             0.2,
             "#de77ae"
            ],
            [
             0.3,
             "#f1b6da"
            ],
            [
             0.4,
             "#fde0ef"
            ],
            [
             0.5,
             "#f7f7f7"
            ],
            [
             0.6,
             "#e6f5d0"
            ],
            [
             0.7,
             "#b8e186"
            ],
            [
             0.8,
             "#7fbc41"
            ],
            [
             0.9,
             "#4d9221"
            ],
            [
             1,
             "#276419"
            ]
           ],
           "sequential": [
            [
             0,
             "#0d0887"
            ],
            [
             0.1111111111111111,
             "#46039f"
            ],
            [
             0.2222222222222222,
             "#7201a8"
            ],
            [
             0.3333333333333333,
             "#9c179e"
            ],
            [
             0.4444444444444444,
             "#bd3786"
            ],
            [
             0.5555555555555556,
             "#d8576b"
            ],
            [
             0.6666666666666666,
             "#ed7953"
            ],
            [
             0.7777777777777778,
             "#fb9f3a"
            ],
            [
             0.8888888888888888,
             "#fdca26"
            ],
            [
             1,
             "#f0f921"
            ]
           ],
           "sequentialminus": [
            [
             0,
             "#0d0887"
            ],
            [
             0.1111111111111111,
             "#46039f"
            ],
            [
             0.2222222222222222,
             "#7201a8"
            ],
            [
             0.3333333333333333,
             "#9c179e"
            ],
            [
             0.4444444444444444,
             "#bd3786"
            ],
            [
             0.5555555555555556,
             "#d8576b"
            ],
            [
             0.6666666666666666,
             "#ed7953"
            ],
            [
             0.7777777777777778,
             "#fb9f3a"
            ],
            [
             0.8888888888888888,
             "#fdca26"
            ],
            [
             1,
             "#f0f921"
            ]
           ]
          },
          "colorway": [
           "#636efa",
           "#EF553B",
           "#00cc96",
           "#ab63fa",
           "#FFA15A",
           "#19d3f3",
           "#FF6692",
           "#B6E880",
           "#FF97FF",
           "#FECB52"
          ],
          "font": {
           "color": "#2a3f5f"
          },
          "geo": {
           "bgcolor": "white",
           "lakecolor": "white",
           "landcolor": "#E5ECF6",
           "showlakes": true,
           "showland": true,
           "subunitcolor": "white"
          },
          "hoverlabel": {
           "align": "left"
          },
          "hovermode": "closest",
          "mapbox": {
           "style": "light"
          },
          "paper_bgcolor": "white",
          "plot_bgcolor": "#E5ECF6",
          "polar": {
           "angularaxis": {
            "gridcolor": "white",
            "linecolor": "white",
            "ticks": ""
           },
           "bgcolor": "#E5ECF6",
           "radialaxis": {
            "gridcolor": "white",
            "linecolor": "white",
            "ticks": ""
           }
          },
          "scene": {
           "xaxis": {
            "backgroundcolor": "#E5ECF6",
            "gridcolor": "white",
            "gridwidth": 2,
            "linecolor": "white",
            "showbackground": true,
            "ticks": "",
            "zerolinecolor": "white"
           },
           "yaxis": {
            "backgroundcolor": "#E5ECF6",
            "gridcolor": "white",
            "gridwidth": 2,
            "linecolor": "white",
            "showbackground": true,
            "ticks": "",
            "zerolinecolor": "white"
           },
           "zaxis": {
            "backgroundcolor": "#E5ECF6",
            "gridcolor": "white",
            "gridwidth": 2,
            "linecolor": "white",
            "showbackground": true,
            "ticks": "",
            "zerolinecolor": "white"
           }
          },
          "shapedefaults": {
           "line": {
            "color": "#2a3f5f"
           }
          },
          "ternary": {
           "aaxis": {
            "gridcolor": "white",
            "linecolor": "white",
            "ticks": ""
           },
           "baxis": {
            "gridcolor": "white",
            "linecolor": "white",
            "ticks": ""
           },
           "bgcolor": "#E5ECF6",
           "caxis": {
            "gridcolor": "white",
            "linecolor": "white",
            "ticks": ""
           }
          },
          "title": {
           "x": 0.05
          },
          "xaxis": {
           "automargin": true,
           "gridcolor": "white",
           "linecolor": "white",
           "ticks": "",
           "title": {
            "standoff": 15
           },
           "zerolinecolor": "white",
           "zerolinewidth": 2
          },
          "yaxis": {
           "automargin": true,
           "gridcolor": "white",
           "linecolor": "white",
           "ticks": "",
           "title": {
            "standoff": 15
           },
           "zerolinecolor": "white",
           "zerolinewidth": 2
          }
         }
        },
        "title": {
         "text": "TOP 10 OF REGISTERED USERS"
        },
        "width": 600,
        "xaxis": {
         "anchor": "y",
         "domain": [
          0,
          1
         ],
         "title": {
          "text": "states"
         }
        },
        "yaxis": {
         "anchor": "x",
         "domain": [
          0,
          1
         ],
         "title": {
          "text": "registeredusers"
         }
        }
       }
      }
     },
     "metadata": {},
     "output_type": "display_data"
    },
    {
     "data": {
      "application/vnd.plotly.v1+json": {
       "config": {
        "plotlyServerURL": "https://plot.ly"
       },
       "data": [
        {
         "alignmentgroup": "True",
         "hovertemplate": "<b>%{hovertext}</b><br><br>states=%{x}<br>registeredusers=%{y}<extra></extra>",
         "hovertext": [
          "Lakshadweep",
          "Andaman & Nicobar ",
          "Mizoram",
          "Ladakh",
          "Meghalaya",
          "Nagaland",
          "Sikkim",
          "Arunachal Pradesh",
          "Manipur",
          "Tripura"
         ],
         "legendgroup": "",
         "marker": {
          "color": "rgb(4, 82, 117)",
          "pattern": {
           "shape": ""
          }
         },
         "name": "",
         "offsetgroup": "",
         "orientation": "v",
         "showlegend": false,
         "textposition": "auto",
         "type": "bar",
         "x": [
          "Lakshadweep",
          "Andaman & Nicobar ",
          "Mizoram",
          "Ladakh",
          "Meghalaya",
          "Nagaland",
          "Sikkim",
          "Arunachal Pradesh",
          "Manipur",
          "Tripura"
         ],
         "xaxis": "x",
         "y": [
          221276,
          2405572,
          2706504,
          3247008,
          4735014,
          6219756,
          6329594,
          6987006,
          7524112,
          7984284
         ],
         "yaxis": "y"
        }
       ],
       "layout": {
        "barmode": "relative",
        "height": 650,
        "legend": {
         "tracegroupgap": 0
        },
        "template": {
         "data": {
          "bar": [
           {
            "error_x": {
             "color": "#2a3f5f"
            },
            "error_y": {
             "color": "#2a3f5f"
            },
            "marker": {
             "line": {
              "color": "#E5ECF6",
              "width": 0.5
             },
             "pattern": {
              "fillmode": "overlay",
              "size": 10,
              "solidity": 0.2
             }
            },
            "type": "bar"
           }
          ],
          "barpolar": [
           {
            "marker": {
             "line": {
              "color": "#E5ECF6",
              "width": 0.5
             },
             "pattern": {
              "fillmode": "overlay",
              "size": 10,
              "solidity": 0.2
             }
            },
            "type": "barpolar"
           }
          ],
          "carpet": [
           {
            "aaxis": {
             "endlinecolor": "#2a3f5f",
             "gridcolor": "white",
             "linecolor": "white",
             "minorgridcolor": "white",
             "startlinecolor": "#2a3f5f"
            },
            "baxis": {
             "endlinecolor": "#2a3f5f",
             "gridcolor": "white",
             "linecolor": "white",
             "minorgridcolor": "white",
             "startlinecolor": "#2a3f5f"
            },
            "type": "carpet"
           }
          ],
          "choropleth": [
           {
            "colorbar": {
             "outlinewidth": 0,
             "ticks": ""
            },
            "type": "choropleth"
           }
          ],
          "contour": [
           {
            "colorbar": {
             "outlinewidth": 0,
             "ticks": ""
            },
            "colorscale": [
             [
              0,
              "#0d0887"
             ],
             [
              0.1111111111111111,
              "#46039f"
             ],
             [
              0.2222222222222222,
              "#7201a8"
             ],
             [
              0.3333333333333333,
              "#9c179e"
             ],
             [
              0.4444444444444444,
              "#bd3786"
             ],
             [
              0.5555555555555556,
              "#d8576b"
             ],
             [
              0.6666666666666666,
              "#ed7953"
             ],
             [
              0.7777777777777778,
              "#fb9f3a"
             ],
             [
              0.8888888888888888,
              "#fdca26"
             ],
             [
              1,
              "#f0f921"
             ]
            ],
            "type": "contour"
           }
          ],
          "contourcarpet": [
           {
            "colorbar": {
             "outlinewidth": 0,
             "ticks": ""
            },
            "type": "contourcarpet"
           }
          ],
          "heatmap": [
           {
            "colorbar": {
             "outlinewidth": 0,
             "ticks": ""
            },
            "colorscale": [
             [
              0,
              "#0d0887"
             ],
             [
              0.1111111111111111,
              "#46039f"
             ],
             [
              0.2222222222222222,
              "#7201a8"
             ],
             [
              0.3333333333333333,
              "#9c179e"
             ],
             [
              0.4444444444444444,
              "#bd3786"
             ],
             [
              0.5555555555555556,
              "#d8576b"
             ],
             [
              0.6666666666666666,
              "#ed7953"
             ],
             [
              0.7777777777777778,
              "#fb9f3a"
             ],
             [
              0.8888888888888888,
              "#fdca26"
             ],
             [
              1,
              "#f0f921"
             ]
            ],
            "type": "heatmap"
           }
          ],
          "heatmapgl": [
           {
            "colorbar": {
             "outlinewidth": 0,
             "ticks": ""
            },
            "colorscale": [
             [
              0,
              "#0d0887"
             ],
             [
              0.1111111111111111,
              "#46039f"
             ],
             [
              0.2222222222222222,
              "#7201a8"
             ],
             [
              0.3333333333333333,
              "#9c179e"
             ],
             [
              0.4444444444444444,
              "#bd3786"
             ],
             [
              0.5555555555555556,
              "#d8576b"
             ],
             [
              0.6666666666666666,
              "#ed7953"
             ],
             [
              0.7777777777777778,
              "#fb9f3a"
             ],
             [
              0.8888888888888888,
              "#fdca26"
             ],
             [
              1,
              "#f0f921"
             ]
            ],
            "type": "heatmapgl"
           }
          ],
          "histogram": [
           {
            "marker": {
             "pattern": {
              "fillmode": "overlay",
              "size": 10,
              "solidity": 0.2
             }
            },
            "type": "histogram"
           }
          ],
          "histogram2d": [
           {
            "colorbar": {
             "outlinewidth": 0,
             "ticks": ""
            },
            "colorscale": [
             [
              0,
              "#0d0887"
             ],
             [
              0.1111111111111111,
              "#46039f"
             ],
             [
              0.2222222222222222,
              "#7201a8"
             ],
             [
              0.3333333333333333,
              "#9c179e"
             ],
             [
              0.4444444444444444,
              "#bd3786"
             ],
             [
              0.5555555555555556,
              "#d8576b"
             ],
             [
              0.6666666666666666,
              "#ed7953"
             ],
             [
              0.7777777777777778,
              "#fb9f3a"
             ],
             [
              0.8888888888888888,
              "#fdca26"
             ],
             [
              1,
              "#f0f921"
             ]
            ],
            "type": "histogram2d"
           }
          ],
          "histogram2dcontour": [
           {
            "colorbar": {
             "outlinewidth": 0,
             "ticks": ""
            },
            "colorscale": [
             [
              0,
              "#0d0887"
             ],
             [
              0.1111111111111111,
              "#46039f"
             ],
             [
              0.2222222222222222,
              "#7201a8"
             ],
             [
              0.3333333333333333,
              "#9c179e"
             ],
             [
              0.4444444444444444,
              "#bd3786"
             ],
             [
              0.5555555555555556,
              "#d8576b"
             ],
             [
              0.6666666666666666,
              "#ed7953"
             ],
             [
              0.7777777777777778,
              "#fb9f3a"
             ],
             [
              0.8888888888888888,
              "#fdca26"
             ],
             [
              1,
              "#f0f921"
             ]
            ],
            "type": "histogram2dcontour"
           }
          ],
          "mesh3d": [
           {
            "colorbar": {
             "outlinewidth": 0,
             "ticks": ""
            },
            "type": "mesh3d"
           }
          ],
          "parcoords": [
           {
            "line": {
             "colorbar": {
              "outlinewidth": 0,
              "ticks": ""
             }
            },
            "type": "parcoords"
           }
          ],
          "pie": [
           {
            "automargin": true,
            "type": "pie"
           }
          ],
          "scatter": [
           {
            "fillpattern": {
             "fillmode": "overlay",
             "size": 10,
             "solidity": 0.2
            },
            "type": "scatter"
           }
          ],
          "scatter3d": [
           {
            "line": {
             "colorbar": {
              "outlinewidth": 0,
              "ticks": ""
             }
            },
            "marker": {
             "colorbar": {
              "outlinewidth": 0,
              "ticks": ""
             }
            },
            "type": "scatter3d"
           }
          ],
          "scattercarpet": [
           {
            "marker": {
             "colorbar": {
              "outlinewidth": 0,
              "ticks": ""
             }
            },
            "type": "scattercarpet"
           }
          ],
          "scattergeo": [
           {
            "marker": {
             "colorbar": {
              "outlinewidth": 0,
              "ticks": ""
             }
            },
            "type": "scattergeo"
           }
          ],
          "scattergl": [
           {
            "marker": {
             "colorbar": {
              "outlinewidth": 0,
              "ticks": ""
             }
            },
            "type": "scattergl"
           }
          ],
          "scattermapbox": [
           {
            "marker": {
             "colorbar": {
              "outlinewidth": 0,
              "ticks": ""
             }
            },
            "type": "scattermapbox"
           }
          ],
          "scatterpolar": [
           {
            "marker": {
             "colorbar": {
              "outlinewidth": 0,
              "ticks": ""
             }
            },
            "type": "scatterpolar"
           }
          ],
          "scatterpolargl": [
           {
            "marker": {
             "colorbar": {
              "outlinewidth": 0,
              "ticks": ""
             }
            },
            "type": "scatterpolargl"
           }
          ],
          "scatterternary": [
           {
            "marker": {
             "colorbar": {
              "outlinewidth": 0,
              "ticks": ""
             }
            },
            "type": "scatterternary"
           }
          ],
          "surface": [
           {
            "colorbar": {
             "outlinewidth": 0,
             "ticks": ""
            },
            "colorscale": [
             [
              0,
              "#0d0887"
             ],
             [
              0.1111111111111111,
              "#46039f"
             ],
             [
              0.2222222222222222,
              "#7201a8"
             ],
             [
              0.3333333333333333,
              "#9c179e"
             ],
             [
              0.4444444444444444,
              "#bd3786"
             ],
             [
              0.5555555555555556,
              "#d8576b"
             ],
             [
              0.6666666666666666,
              "#ed7953"
             ],
             [
              0.7777777777777778,
              "#fb9f3a"
             ],
             [
              0.8888888888888888,
              "#fdca26"
             ],
             [
              1,
              "#f0f921"
             ]
            ],
            "type": "surface"
           }
          ],
          "table": [
           {
            "cells": {
             "fill": {
              "color": "#EBF0F8"
             },
             "line": {
              "color": "white"
             }
            },
            "header": {
             "fill": {
              "color": "#C8D4E3"
             },
             "line": {
              "color": "white"
             }
            },
            "type": "table"
           }
          ]
         },
         "layout": {
          "annotationdefaults": {
           "arrowcolor": "#2a3f5f",
           "arrowhead": 0,
           "arrowwidth": 1
          },
          "autotypenumbers": "strict",
          "coloraxis": {
           "colorbar": {
            "outlinewidth": 0,
            "ticks": ""
           }
          },
          "colorscale": {
           "diverging": [
            [
             0,
             "#8e0152"
            ],
            [
             0.1,
             "#c51b7d"
            ],
            [
             0.2,
             "#de77ae"
            ],
            [
             0.3,
             "#f1b6da"
            ],
            [
             0.4,
             "#fde0ef"
            ],
            [
             0.5,
             "#f7f7f7"
            ],
            [
             0.6,
             "#e6f5d0"
            ],
            [
             0.7,
             "#b8e186"
            ],
            [
             0.8,
             "#7fbc41"
            ],
            [
             0.9,
             "#4d9221"
            ],
            [
             1,
             "#276419"
            ]
           ],
           "sequential": [
            [
             0,
             "#0d0887"
            ],
            [
             0.1111111111111111,
             "#46039f"
            ],
            [
             0.2222222222222222,
             "#7201a8"
            ],
            [
             0.3333333333333333,
             "#9c179e"
            ],
            [
             0.4444444444444444,
             "#bd3786"
            ],
            [
             0.5555555555555556,
             "#d8576b"
            ],
            [
             0.6666666666666666,
             "#ed7953"
            ],
            [
             0.7777777777777778,
             "#fb9f3a"
            ],
            [
             0.8888888888888888,
             "#fdca26"
            ],
            [
             1,
             "#f0f921"
            ]
           ],
           "sequentialminus": [
            [
             0,
             "#0d0887"
            ],
            [
             0.1111111111111111,
             "#46039f"
            ],
            [
             0.2222222222222222,
             "#7201a8"
            ],
            [
             0.3333333333333333,
             "#9c179e"
            ],
            [
             0.4444444444444444,
             "#bd3786"
            ],
            [
             0.5555555555555556,
             "#d8576b"
            ],
            [
             0.6666666666666666,
             "#ed7953"
            ],
            [
             0.7777777777777778,
             "#fb9f3a"
            ],
            [
             0.8888888888888888,
             "#fdca26"
            ],
            [
             1,
             "#f0f921"
            ]
           ]
          },
          "colorway": [
           "#636efa",
           "#EF553B",
           "#00cc96",
           "#ab63fa",
           "#FFA15A",
           "#19d3f3",
           "#FF6692",
           "#B6E880",
           "#FF97FF",
           "#FECB52"
          ],
          "font": {
           "color": "#2a3f5f"
          },
          "geo": {
           "bgcolor": "white",
           "lakecolor": "white",
           "landcolor": "#E5ECF6",
           "showlakes": true,
           "showland": true,
           "subunitcolor": "white"
          },
          "hoverlabel": {
           "align": "left"
          },
          "hovermode": "closest",
          "mapbox": {
           "style": "light"
          },
          "paper_bgcolor": "white",
          "plot_bgcolor": "#E5ECF6",
          "polar": {
           "angularaxis": {
            "gridcolor": "white",
            "linecolor": "white",
            "ticks": ""
           },
           "bgcolor": "#E5ECF6",
           "radialaxis": {
            "gridcolor": "white",
            "linecolor": "white",
            "ticks": ""
           }
          },
          "scene": {
           "xaxis": {
            "backgroundcolor": "#E5ECF6",
            "gridcolor": "white",
            "gridwidth": 2,
            "linecolor": "white",
            "showbackground": true,
            "ticks": "",
            "zerolinecolor": "white"
           },
           "yaxis": {
            "backgroundcolor": "#E5ECF6",
            "gridcolor": "white",
            "gridwidth": 2,
            "linecolor": "white",
            "showbackground": true,
            "ticks": "",
            "zerolinecolor": "white"
           },
           "zaxis": {
            "backgroundcolor": "#E5ECF6",
            "gridcolor": "white",
            "gridwidth": 2,
            "linecolor": "white",
            "showbackground": true,
            "ticks": "",
            "zerolinecolor": "white"
           }
          },
          "shapedefaults": {
           "line": {
            "color": "#2a3f5f"
           }
          },
          "ternary": {
           "aaxis": {
            "gridcolor": "white",
            "linecolor": "white",
            "ticks": ""
           },
           "baxis": {
            "gridcolor": "white",
            "linecolor": "white",
            "ticks": ""
           },
           "bgcolor": "#E5ECF6",
           "caxis": {
            "gridcolor": "white",
            "linecolor": "white",
            "ticks": ""
           }
          },
          "title": {
           "x": 0.05
          },
          "xaxis": {
           "automargin": true,
           "gridcolor": "white",
           "linecolor": "white",
           "ticks": "",
           "title": {
            "standoff": 15
           },
           "zerolinecolor": "white",
           "zerolinewidth": 2
          },
          "yaxis": {
           "automargin": true,
           "gridcolor": "white",
           "linecolor": "white",
           "ticks": "",
           "title": {
            "standoff": 15
           },
           "zerolinecolor": "white",
           "zerolinewidth": 2
          }
         }
        },
        "title": {
         "text": "LAST 10 OF REGISTERED USERS"
        },
        "width": 600,
        "xaxis": {
         "anchor": "y",
         "domain": [
          0,
          1
         ],
         "title": {
          "text": "states"
         }
        },
        "yaxis": {
         "anchor": "x",
         "domain": [
          0,
          1
         ],
         "title": {
          "text": "registeredusers"
         }
        }
       }
      }
     },
     "metadata": {},
     "output_type": "display_data"
    },
    {
     "data": {
      "application/vnd.plotly.v1+json": {
       "config": {
        "plotlyServerURL": "https://plot.ly"
       },
       "data": [
        {
         "alignmentgroup": "True",
         "hovertemplate": "<b>%{hovertext}</b><br><br>registeredusers=%{x}<br>states=%{y}<extra></extra>",
         "hovertext": [
          "Lakshadweep",
          "Andaman & Nicobar ",
          "Mizoram",
          "Ladakh",
          "Meghalaya",
          "Nagaland",
          "Sikkim",
          "Arunachal Pradesh",
          "Manipur",
          "Tripura",
          "Jammu & Kashmir",
          "Puducherry",
          "Goa",
          "Kerala",
          "Assam",
          "Chandigarh",
          "Dadra and Nagar Haveli and Daman and Diu",
          "Himachal Pradesh",
          "Odisha",
          "West Bengal",
          "Jharkhand",
          "Chhattisgarh",
          "Tamil Nadu",
          "Uttarakhand",
          "Punjab",
          "Andhra Pradesh",
          "Bihar",
          "Madhya Pradesh",
          "Gujarat",
          "Rajasthan",
          "Telangana",
          "Haryana",
          "Maharashtra",
          "Uttar Pradesh",
          "Karnataka",
          "Delhi"
         ],
         "legendgroup": "",
         "marker": {
          "color": "rgb(8,48,107)",
          "pattern": {
           "shape": ""
          }
         },
         "name": "",
         "offsetgroup": "",
         "orientation": "h",
         "showlegend": false,
         "textposition": "auto",
         "type": "bar",
         "x": [
          553.19,
          4811.144,
          5413.008,
          6494.016,
          9470.028,
          12439.512,
          12659.188,
          13974.012,
          15048.224,
          15968.568,
          20276.716,
          22565.764,
          24018.436,
          27705.416,
          31243.164,
          32556.392,
          36298.24888888889,
          38428.828,
          77419.772,
          79402.7,
          90872.796,
          97845.612,
          99977.688,
          103902.48,
          113547.332,
          142412.008,
          145249.676,
          157687.012,
          165375.14,
          199952.984,
          217708.404,
          227583.42,
          265104.988,
          265137.364,
          275988.772,
          298198.212
         ],
         "xaxis": "x",
         "y": [
          "Lakshadweep",
          "Andaman & Nicobar ",
          "Mizoram",
          "Ladakh",
          "Meghalaya",
          "Nagaland",
          "Sikkim",
          "Arunachal Pradesh",
          "Manipur",
          "Tripura",
          "Jammu & Kashmir",
          "Puducherry",
          "Goa",
          "Kerala",
          "Assam",
          "Chandigarh",
          "Dadra and Nagar Haveli and Daman and Diu",
          "Himachal Pradesh",
          "Odisha",
          "West Bengal",
          "Jharkhand",
          "Chhattisgarh",
          "Tamil Nadu",
          "Uttarakhand",
          "Punjab",
          "Andhra Pradesh",
          "Bihar",
          "Madhya Pradesh",
          "Gujarat",
          "Rajasthan",
          "Telangana",
          "Haryana",
          "Maharashtra",
          "Uttar Pradesh",
          "Karnataka",
          "Delhi"
         ],
         "yaxis": "y"
        }
       ],
       "layout": {
        "barmode": "relative",
        "height": 800,
        "legend": {
         "tracegroupgap": 0
        },
        "template": {
         "data": {
          "bar": [
           {
            "error_x": {
             "color": "#2a3f5f"
            },
            "error_y": {
             "color": "#2a3f5f"
            },
            "marker": {
             "line": {
              "color": "#E5ECF6",
              "width": 0.5
             },
             "pattern": {
              "fillmode": "overlay",
              "size": 10,
              "solidity": 0.2
             }
            },
            "type": "bar"
           }
          ],
          "barpolar": [
           {
            "marker": {
             "line": {
              "color": "#E5ECF6",
              "width": 0.5
             },
             "pattern": {
              "fillmode": "overlay",
              "size": 10,
              "solidity": 0.2
             }
            },
            "type": "barpolar"
           }
          ],
          "carpet": [
           {
            "aaxis": {
             "endlinecolor": "#2a3f5f",
             "gridcolor": "white",
             "linecolor": "white",
             "minorgridcolor": "white",
             "startlinecolor": "#2a3f5f"
            },
            "baxis": {
             "endlinecolor": "#2a3f5f",
             "gridcolor": "white",
             "linecolor": "white",
             "minorgridcolor": "white",
             "startlinecolor": "#2a3f5f"
            },
            "type": "carpet"
           }
          ],
          "choropleth": [
           {
            "colorbar": {
             "outlinewidth": 0,
             "ticks": ""
            },
            "type": "choropleth"
           }
          ],
          "contour": [
           {
            "colorbar": {
             "outlinewidth": 0,
             "ticks": ""
            },
            "colorscale": [
             [
              0,
              "#0d0887"
             ],
             [
              0.1111111111111111,
              "#46039f"
             ],
             [
              0.2222222222222222,
              "#7201a8"
             ],
             [
              0.3333333333333333,
              "#9c179e"
             ],
             [
              0.4444444444444444,
              "#bd3786"
             ],
             [
              0.5555555555555556,
              "#d8576b"
             ],
             [
              0.6666666666666666,
              "#ed7953"
             ],
             [
              0.7777777777777778,
              "#fb9f3a"
             ],
             [
              0.8888888888888888,
              "#fdca26"
             ],
             [
              1,
              "#f0f921"
             ]
            ],
            "type": "contour"
           }
          ],
          "contourcarpet": [
           {
            "colorbar": {
             "outlinewidth": 0,
             "ticks": ""
            },
            "type": "contourcarpet"
           }
          ],
          "heatmap": [
           {
            "colorbar": {
             "outlinewidth": 0,
             "ticks": ""
            },
            "colorscale": [
             [
              0,
              "#0d0887"
             ],
             [
              0.1111111111111111,
              "#46039f"
             ],
             [
              0.2222222222222222,
              "#7201a8"
             ],
             [
              0.3333333333333333,
              "#9c179e"
             ],
             [
              0.4444444444444444,
              "#bd3786"
             ],
             [
              0.5555555555555556,
              "#d8576b"
             ],
             [
              0.6666666666666666,
              "#ed7953"
             ],
             [
              0.7777777777777778,
              "#fb9f3a"
             ],
             [
              0.8888888888888888,
              "#fdca26"
             ],
             [
              1,
              "#f0f921"
             ]
            ],
            "type": "heatmap"
           }
          ],
          "heatmapgl": [
           {
            "colorbar": {
             "outlinewidth": 0,
             "ticks": ""
            },
            "colorscale": [
             [
              0,
              "#0d0887"
             ],
             [
              0.1111111111111111,
              "#46039f"
             ],
             [
              0.2222222222222222,
              "#7201a8"
             ],
             [
              0.3333333333333333,
              "#9c179e"
             ],
             [
              0.4444444444444444,
              "#bd3786"
             ],
             [
              0.5555555555555556,
              "#d8576b"
             ],
             [
              0.6666666666666666,
              "#ed7953"
             ],
             [
              0.7777777777777778,
              "#fb9f3a"
             ],
             [
              0.8888888888888888,
              "#fdca26"
             ],
             [
              1,
              "#f0f921"
             ]
            ],
            "type": "heatmapgl"
           }
          ],
          "histogram": [
           {
            "marker": {
             "pattern": {
              "fillmode": "overlay",
              "size": 10,
              "solidity": 0.2
             }
            },
            "type": "histogram"
           }
          ],
          "histogram2d": [
           {
            "colorbar": {
             "outlinewidth": 0,
             "ticks": ""
            },
            "colorscale": [
             [
              0,
              "#0d0887"
             ],
             [
              0.1111111111111111,
              "#46039f"
             ],
             [
              0.2222222222222222,
              "#7201a8"
             ],
             [
              0.3333333333333333,
              "#9c179e"
             ],
             [
              0.4444444444444444,
              "#bd3786"
             ],
             [
              0.5555555555555556,
              "#d8576b"
             ],
             [
              0.6666666666666666,
              "#ed7953"
             ],
             [
              0.7777777777777778,
              "#fb9f3a"
             ],
             [
              0.8888888888888888,
              "#fdca26"
             ],
             [
              1,
              "#f0f921"
             ]
            ],
            "type": "histogram2d"
           }
          ],
          "histogram2dcontour": [
           {
            "colorbar": {
             "outlinewidth": 0,
             "ticks": ""
            },
            "colorscale": [
             [
              0,
              "#0d0887"
             ],
             [
              0.1111111111111111,
              "#46039f"
             ],
             [
              0.2222222222222222,
              "#7201a8"
             ],
             [
              0.3333333333333333,
              "#9c179e"
             ],
             [
              0.4444444444444444,
              "#bd3786"
             ],
             [
              0.5555555555555556,
              "#d8576b"
             ],
             [
              0.6666666666666666,
              "#ed7953"
             ],
             [
              0.7777777777777778,
              "#fb9f3a"
             ],
             [
              0.8888888888888888,
              "#fdca26"
             ],
             [
              1,
              "#f0f921"
             ]
            ],
            "type": "histogram2dcontour"
           }
          ],
          "mesh3d": [
           {
            "colorbar": {
             "outlinewidth": 0,
             "ticks": ""
            },
            "type": "mesh3d"
           }
          ],
          "parcoords": [
           {
            "line": {
             "colorbar": {
              "outlinewidth": 0,
              "ticks": ""
             }
            },
            "type": "parcoords"
           }
          ],
          "pie": [
           {
            "automargin": true,
            "type": "pie"
           }
          ],
          "scatter": [
           {
            "fillpattern": {
             "fillmode": "overlay",
             "size": 10,
             "solidity": 0.2
            },
            "type": "scatter"
           }
          ],
          "scatter3d": [
           {
            "line": {
             "colorbar": {
              "outlinewidth": 0,
              "ticks": ""
             }
            },
            "marker": {
             "colorbar": {
              "outlinewidth": 0,
              "ticks": ""
             }
            },
            "type": "scatter3d"
           }
          ],
          "scattercarpet": [
           {
            "marker": {
             "colorbar": {
              "outlinewidth": 0,
              "ticks": ""
             }
            },
            "type": "scattercarpet"
           }
          ],
          "scattergeo": [
           {
            "marker": {
             "colorbar": {
              "outlinewidth": 0,
              "ticks": ""
             }
            },
            "type": "scattergeo"
           }
          ],
          "scattergl": [
           {
            "marker": {
             "colorbar": {
              "outlinewidth": 0,
              "ticks": ""
             }
            },
            "type": "scattergl"
           }
          ],
          "scattermapbox": [
           {
            "marker": {
             "colorbar": {
              "outlinewidth": 0,
              "ticks": ""
             }
            },
            "type": "scattermapbox"
           }
          ],
          "scatterpolar": [
           {
            "marker": {
             "colorbar": {
              "outlinewidth": 0,
              "ticks": ""
             }
            },
            "type": "scatterpolar"
           }
          ],
          "scatterpolargl": [
           {
            "marker": {
             "colorbar": {
              "outlinewidth": 0,
              "ticks": ""
             }
            },
            "type": "scatterpolargl"
           }
          ],
          "scatterternary": [
           {
            "marker": {
             "colorbar": {
              "outlinewidth": 0,
              "ticks": ""
             }
            },
            "type": "scatterternary"
           }
          ],
          "surface": [
           {
            "colorbar": {
             "outlinewidth": 0,
             "ticks": ""
            },
            "colorscale": [
             [
              0,
              "#0d0887"
             ],
             [
              0.1111111111111111,
              "#46039f"
             ],
             [
              0.2222222222222222,
              "#7201a8"
             ],
             [
              0.3333333333333333,
              "#9c179e"
             ],
             [
              0.4444444444444444,
              "#bd3786"
             ],
             [
              0.5555555555555556,
              "#d8576b"
             ],
             [
              0.6666666666666666,
              "#ed7953"
             ],
             [
              0.7777777777777778,
              "#fb9f3a"
             ],
             [
              0.8888888888888888,
              "#fdca26"
             ],
             [
              1,
              "#f0f921"
             ]
            ],
            "type": "surface"
           }
          ],
          "table": [
           {
            "cells": {
             "fill": {
              "color": "#EBF0F8"
             },
             "line": {
              "color": "white"
             }
            },
            "header": {
             "fill": {
              "color": "#C8D4E3"
             },
             "line": {
              "color": "white"
             }
            },
            "type": "table"
           }
          ]
         },
         "layout": {
          "annotationdefaults": {
           "arrowcolor": "#2a3f5f",
           "arrowhead": 0,
           "arrowwidth": 1
          },
          "autotypenumbers": "strict",
          "coloraxis": {
           "colorbar": {
            "outlinewidth": 0,
            "ticks": ""
           }
          },
          "colorscale": {
           "diverging": [
            [
             0,
             "#8e0152"
            ],
            [
             0.1,
             "#c51b7d"
            ],
            [
             0.2,
             "#de77ae"
            ],
            [
             0.3,
             "#f1b6da"
            ],
            [
             0.4,
             "#fde0ef"
            ],
            [
             0.5,
             "#f7f7f7"
            ],
            [
             0.6,
             "#e6f5d0"
            ],
            [
             0.7,
             "#b8e186"
            ],
            [
             0.8,
             "#7fbc41"
            ],
            [
             0.9,
             "#4d9221"
            ],
            [
             1,
             "#276419"
            ]
           ],
           "sequential": [
            [
             0,
             "#0d0887"
            ],
            [
             0.1111111111111111,
             "#46039f"
            ],
            [
             0.2222222222222222,
             "#7201a8"
            ],
            [
             0.3333333333333333,
             "#9c179e"
            ],
            [
             0.4444444444444444,
             "#bd3786"
            ],
            [
             0.5555555555555556,
             "#d8576b"
            ],
            [
             0.6666666666666666,
             "#ed7953"
            ],
            [
             0.7777777777777778,
             "#fb9f3a"
            ],
            [
             0.8888888888888888,
             "#fdca26"
            ],
            [
             1,
             "#f0f921"
            ]
           ],
           "sequentialminus": [
            [
             0,
             "#0d0887"
            ],
            [
             0.1111111111111111,
             "#46039f"
            ],
            [
             0.2222222222222222,
             "#7201a8"
            ],
            [
             0.3333333333333333,
             "#9c179e"
            ],
            [
             0.4444444444444444,
             "#bd3786"
            ],
            [
             0.5555555555555556,
             "#d8576b"
            ],
            [
             0.6666666666666666,
             "#ed7953"
            ],
            [
             0.7777777777777778,
             "#fb9f3a"
            ],
            [
             0.8888888888888888,
             "#fdca26"
            ],
            [
             1,
             "#f0f921"
            ]
           ]
          },
          "colorway": [
           "#636efa",
           "#EF553B",
           "#00cc96",
           "#ab63fa",
           "#FFA15A",
           "#19d3f3",
           "#FF6692",
           "#B6E880",
           "#FF97FF",
           "#FECB52"
          ],
          "font": {
           "color": "#2a3f5f"
          },
          "geo": {
           "bgcolor": "white",
           "lakecolor": "white",
           "landcolor": "#E5ECF6",
           "showlakes": true,
           "showland": true,
           "subunitcolor": "white"
          },
          "hoverlabel": {
           "align": "left"
          },
          "hovermode": "closest",
          "mapbox": {
           "style": "light"
          },
          "paper_bgcolor": "white",
          "plot_bgcolor": "#E5ECF6",
          "polar": {
           "angularaxis": {
            "gridcolor": "white",
            "linecolor": "white",
            "ticks": ""
           },
           "bgcolor": "#E5ECF6",
           "radialaxis": {
            "gridcolor": "white",
            "linecolor": "white",
            "ticks": ""
           }
          },
          "scene": {
           "xaxis": {
            "backgroundcolor": "#E5ECF6",
            "gridcolor": "white",
            "gridwidth": 2,
            "linecolor": "white",
            "showbackground": true,
            "ticks": "",
            "zerolinecolor": "white"
           },
           "yaxis": {
            "backgroundcolor": "#E5ECF6",
            "gridcolor": "white",
            "gridwidth": 2,
            "linecolor": "white",
            "showbackground": true,
            "ticks": "",
            "zerolinecolor": "white"
           },
           "zaxis": {
            "backgroundcolor": "#E5ECF6",
            "gridcolor": "white",
            "gridwidth": 2,
            "linecolor": "white",
            "showbackground": true,
            "ticks": "",
            "zerolinecolor": "white"
           }
          },
          "shapedefaults": {
           "line": {
            "color": "#2a3f5f"
           }
          },
          "ternary": {
           "aaxis": {
            "gridcolor": "white",
            "linecolor": "white",
            "ticks": ""
           },
           "baxis": {
            "gridcolor": "white",
            "linecolor": "white",
            "ticks": ""
           },
           "bgcolor": "#E5ECF6",
           "caxis": {
            "gridcolor": "white",
            "linecolor": "white",
            "ticks": ""
           }
          },
          "title": {
           "x": 0.05
          },
          "xaxis": {
           "automargin": true,
           "gridcolor": "white",
           "linecolor": "white",
           "ticks": "",
           "title": {
            "standoff": 15
           },
           "zerolinecolor": "white",
           "zerolinewidth": 2
          },
          "yaxis": {
           "automargin": true,
           "gridcolor": "white",
           "linecolor": "white",
           "ticks": "",
           "title": {
            "standoff": 15
           },
           "zerolinecolor": "white",
           "zerolinewidth": 2
          }
         }
        },
        "title": {
         "text": "AVERAGE OF REGISTERED USERS"
        },
        "width": 1000,
        "xaxis": {
         "anchor": "y",
         "domain": [
          0,
          1
         ],
         "title": {
          "text": "registeredusers"
         }
        },
        "yaxis": {
         "anchor": "x",
         "domain": [
          0,
          1
         ],
         "title": {
          "text": "states"
         }
        }
       }
      }
     },
     "metadata": {},
     "output_type": "display_data"
    }
   ],
   "source": [
    "top_chart_registeredusers(\"top_user\")"
   ]
  },
  {
   "cell_type": "code",
   "execution_count": null,
   "metadata": {},
   "outputs": [],
   "source": [
    "top_chart_transaction_amount(\"Map_insurance\")"
   ]
  },
  {
   "cell_type": "code",
   "execution_count": null,
   "metadata": {},
   "outputs": [],
   "source": [
    "top_chart_transaction_count(\"Aggregated_insurance\")"
   ]
  },
  {
   "cell_type": "code",
   "execution_count": null,
   "metadata": {},
   "outputs": [],
   "source": [
    "top_chart_registered_users(\"map_user\", 'Assam')"
   ]
  },
  {
   "cell_type": "code",
   "execution_count": null,
   "metadata": {},
   "outputs": [],
   "source": [
    "top_chart_appopens(\"map_user\", 'Assam')"
   ]
  },
  {
   "cell_type": "code",
   "execution_count": 293,
   "metadata": {},
   "outputs": [],
   "source": [
    "#Transaction year based\n",
    "\n",
    "def Transaction_amount_count_Y(df,year): \n",
    "    tacy =df[df[\"Years\"]==year]\n",
    "    tacy.reset_index(drop=True, inplace= True)\n",
    "\n",
    "    tacyg = tacy.groupby(\"States\")[[\"Transaction_count\", \"Transaction_amount\"]].sum()\n",
    "    tacyg.reset_index(inplace=True)\n",
    "\n",
    "    fig_amount = px.bar(tacyg, x=\"States\", y=\"Transaction_amount\", title=f\"{year} TRANSACTION AMOUNT\",\n",
    "                        color_discrete_sequence=px.colors.sequential.Aggrnyl, height= 650, width= 600)\n",
    "    fig_amount.show()\n",
    "\n",
    "    fig_count = px.bar(tacyg, x=\"States\", y=\"Transaction_count\", title=f\"{year} TRANSACTION COUNT\",\n",
    "                        color_discrete_sequence=px.colors.sequential.Bluered_r, height= 650, width= 600)\n",
    "    fig_count.show()\n",
    "    \n",
    "    url=\"https://gist.githubusercontent.com/jbrobst/56c13bbbf9d97d187fea01ca62ea5112/raw/e388c4cae20aa53cb5090210a42ebb9b765c0a36/india_states.geojson\"\n",
    "    response = requests.get(url)\n",
    "    data1 =json.loads(response.content)\n",
    "    states_name =[]\n",
    "    for feature in data1[\"features\"]:\n",
    "        states_name.append(feature[\"properties\"][\"ST_NM\"])\n",
    "        \n",
    "    states_name.sort()   \n",
    "\n",
    "    fig_india_1 =px.choropleth(tacyg, geojson=data1, locations= \"States\", featureidkey= \"properties.ST_NM\",\n",
    "                               color= \"Transaction_amount\", color_continuous_scale= \"Rainbow\", \n",
    "                               range_color= (tacyg[\"Transaction_amount\"].min(),tacyg[\"Transaction_amount\"].max()),\n",
    "                               hover_name= \"States\", title= f\"{year} TRANSACTION AMOUNT\", fitbounds= \"locations\",\n",
    "                               height= 600, width= 600)\n",
    "    fig_india_1.update_geos(visible = False)\n",
    "    fig_india_1.show() \n",
    "    \n",
    "    fig_india_2 =px.choropleth(tacyg, geojson=data1, locations= \"States\", featureidkey= \"properties.ST_NM\",\n",
    "                               color= \"Transaction_count\", color_continuous_scale= \"Rainbow\", \n",
    "                               range_color= (tacyg[\"Transaction_count\"].min(),tacyg[\"Transaction_count\"].max()),\n",
    "                               hover_name= \"States\", title= f\"{year} TRANSACTION COUNT\", fitbounds= \"locations\",\n",
    "                               height= 600, width= 600)\n",
    "    fig_india_2.update_geos(visible = False)\n",
    "    fig_india_2.show() \n",
    "    \n",
    "    return tacy\n",
    "    \n",
    "  "
   ]
  },
  {
   "cell_type": "code",
   "execution_count": 294,
   "metadata": {},
   "outputs": [],
   "source": [
    "#Transaction Quarter based\n",
    "\n",
    "def Transaction_amount_count_Y_Q(df,quarter):\n",
    "     \n",
    "    tacy =df[df[\"Quarter\"]==quarter]\n",
    "    tacy.reset_index(drop=True, inplace= True)\n",
    "\n",
    "    tacyg = tacy.groupby(\"States\")[[\"Transaction_count\", \"Transaction_amount\"]].sum()\n",
    "    tacyg.reset_index(inplace=True)\n",
    "\n",
    "    fig_amount = px.bar(tacyg, x=\"States\", y=\"Transaction_amount\", title=f\"{tacy['Years'].min()} YEAR {quarter} QUARTER TRANSACTION AMOUNT\",\n",
    "                        color_discrete_sequence=px.colors.sequential.Aggrnyl, height= 650, width= 600)\n",
    "    fig_amount.show()\n",
    "\n",
    "    fig_count = px.bar(tacyg, x=\"States\", y=\"Transaction_count\", title=f\"{tacy['Years'].min()} YEAR {quarter} QUARTER TRANSACTION COUNT\",\n",
    "                        color_discrete_sequence=px.colors.sequential.Bluered_r, height= 650, width= 600)\n",
    "    fig_count.show()\n",
    "    \n",
    "    url=\"https://gist.githubusercontent.com/jbrobst/56c13bbbf9d97d187fea01ca62ea5112/raw/e388c4cae20aa53cb5090210a42ebb9b765c0a36/india_states.geojson\"\n",
    "    response = requests.get(url)\n",
    "    data1 =json.loads(response.content)\n",
    "    states_name =[]\n",
    "    for feature in data1[\"features\"]:\n",
    "        states_name.append(feature[\"properties\"][\"ST_NM\"])\n",
    "        \n",
    "    states_name.sort()   \n",
    "\n",
    "    fig_india_1 =px.choropleth(tacyg, geojson=data1, locations= \"States\", featureidkey= \"properties.ST_NM\",\n",
    "                               color= \"Transaction_amount\", color_continuous_scale= \"Rainbow\", \n",
    "                               range_color= (tacyg[\"Transaction_amount\"].min(),tacyg[\"Transaction_amount\"].max()),\n",
    "                               hover_name= \"States\", title= f\"{tacy['Years'].unique()} YEAR {quarter} QUARTER TRANSACTION AMOUNT\", fitbounds= \"locations\",\n",
    "                               height= 600, width= 600)\n",
    "    fig_india_1.update_geos(visible = False)\n",
    "    fig_india_1.show() \n",
    "    \n",
    "    fig_india_2 =px.choropleth(tacyg, geojson=data1, locations= \"States\", featureidkey= \"properties.ST_NM\",\n",
    "                               color= \"Transaction_count\", color_continuous_scale= \"Rainbow\", \n",
    "                               range_color= (tacyg[\"Transaction_count\"].min(),tacyg[\"Transaction_count\"].max()),\n",
    "                               hover_name= \"States\", title= f\"{tacy['Years'].unique()} YEAR {quarter} QUARTER TRANSACTION COUNT\", fitbounds= \"locations\",\n",
    "                               height= 600, width= 600)\n",
    "    fig_india_2.update_geos(visible = False)\n",
    "    fig_india_2.show() \n",
    "    \n",
    "    return tacy\n",
    "    \n",
    "    \n",
    "    \n",
    "  "
   ]
  },
  {
   "cell_type": "code",
   "execution_count": 295,
   "metadata": {},
   "outputs": [],
   "source": [
    "#Transaction Type\n",
    "\n",
    "def Aggre_tran_transaction_type(df, state):\n",
    "    \n",
    "    tacy =df[df[\"States\"]==state]\n",
    "    tacy.reset_index(drop=True, inplace= True)\n",
    "\n",
    "    tacyg = tacy.groupby(\"Transaction_type\")[[\"Transaction_count\", \"Transaction_amount\"]].sum()\n",
    "    tacyg.reset_index(inplace=True)\n",
    "\n",
    "    fig_pie_1 = px.pie(data_frame= tacyg, names= \"Transaction_type\", values= \"Transaction_amount\",\n",
    "                    width= 600, title=f\"{state.upper()} TRANSACTION AMOUNT\", hole= 0.5)\n",
    "    fig_pie_1.show()\n",
    "    \n",
    "    fig_pie_2 = px.pie(data_frame= tacyg, names= \"Transaction_type\", values= \"Transaction_count\",\n",
    "                    width= 600, title=f\"{state.upper()} TRANSACTION COUNT\", hole= 0.5)\n",
    "    fig_pie_2.show()"
   ]
  },
  {
   "cell_type": "code",
   "execution_count": 296,
   "metadata": {},
   "outputs": [],
   "source": [
    "#Aggregated user Analysis 1\n",
    "\n",
    "def Aggre_user_plot_1(df, year):\n",
    "    \n",
    "    aguy = df[df[\"Years\"]==year]\n",
    "    aguy.reset_index(drop= True, inplace= True)\n",
    "\n",
    "\n",
    "    aguyg = pd.DataFrame(aguy.groupby(\"Brands\")[\"Transaction_count\"].sum())\n",
    "    aguyg.reset_index(inplace= True)\n",
    "\n",
    "    fig_bar_1 = px.bar(aguyg, x= \"Brands\", y= \"Transaction_count\", title= f\"{year}BRANDS AND TRANSACTION COUNT\",\n",
    "                    width= 1000, color_discrete_sequence= px.colors.sequential.haline, hover_name= \"Brands\")\n",
    "    fig_bar_1.show()\n",
    "    \n",
    "    return aguy"
   ]
  },
  {
   "cell_type": "code",
   "execution_count": 297,
   "metadata": {},
   "outputs": [],
   "source": [
    "#Aggregated user Analysis 2\n",
    "\n",
    "def Aggre_user_plot_2(df, quarter):\n",
    "    \n",
    "    aguyq = df[df[\"Quarter\"]==quarter]\n",
    "    aguyq.reset_index(drop= True, inplace= True)\n",
    "\n",
    "    aguyqg = pd.DataFrame(aguyq.groupby(\"Brands\")[\"Transaction_count\"].sum())\n",
    "    aguyqg.reset_index(inplace= True)\n",
    "\n",
    "    fig_bar_1 = px.bar(aguyqg, x= \"Brands\", y= \"Transaction_count\", title= f\"{quarter} QUARTER, BRANDS AND TRANSACTION COUNT\",\n",
    "                        width= 1000, color_discrete_sequence= px.colors.sequential.Bluered, hover_name= \"Brands\")\n",
    "    fig_bar_1.show()\n",
    "    \n",
    "    return aguyq"
   ]
  },
  {
   "cell_type": "code",
   "execution_count": 298,
   "metadata": {},
   "outputs": [],
   "source": [
    "#Aggregated user Analysis 3\n",
    "\n",
    "def Aggre_user_plot_3(df, state):\n",
    "\n",
    "    auyqs = df[df[\"States\"] == state]\n",
    "    auyqs.reset_index(drop= True, inplace= True)\n",
    "\n",
    "    fig_line_1 =px.line(auyqs, x= \"Brands\", y= \"Transaction_count\", hover_data= \"Percentage\",\n",
    "                        title= f\"{state.upper()} BRANDS, TRANSACTION COUNT, PERCENTAGE\",\n",
    "                        color_discrete_sequence=px.colors.sequential.Magenta_r, width= 1000, markers= True)\n",
    "    fig_line_1.show() "
   ]
  },
  {
   "cell_type": "code",
   "execution_count": 299,
   "metadata": {},
   "outputs": [],
   "source": [
    "# Map Insurance Districts\n",
    "\n",
    "def Map_insur_Districts(df, state):\n",
    "    \n",
    "    tacy =df[df[\"States\"]==state]\n",
    "    tacy.reset_index(drop=True, inplace= True)\n",
    "\n",
    "    tacyg = tacy.groupby(\"Districts\")[[\"Transaction_count\", \"Transaction_amount\"]].sum()\n",
    "    tacyg.reset_index(inplace=True)\n",
    "\n",
    "    fig_bar_1 = px.bar(tacyg, x= \"Transaction_amount\", y= \"Districts\", orientation= \"h\",\n",
    "                       title= f\"{state.upper()} DISTRICTS AND TRANSACTION AMOUNT\", color_discrete_sequence= px.colors.sequential.Brwnyl_r)\n",
    "    fig_bar_1.show()\n",
    "    \n",
    "    fig_bar_2 = px.bar(tacyg, x= \"Transaction_count\", y= \"Districts\", orientation= \"h\",\n",
    "                       title= f\"{state.upper()} DISTRICTS AND TRANSACTION COUNT\", color_discrete_sequence= px.colors.sequential.Blues_r)\n",
    "    fig_bar_2.show()"
   ]
  },
  {
   "cell_type": "code",
   "execution_count": 300,
   "metadata": {},
   "outputs": [],
   "source": [
    "#Map user plot 1\n",
    "def map_user_plot_1(df, year):\n",
    "    muy= df[df[\"Years\"]==year]\n",
    "    muy.reset_index(drop= True, inplace= True)\n",
    "\n",
    "\n",
    "    muyg = muy.groupby(\"States\")[[\"RegisteredUsers\", \"AppOpens\"]].sum()\n",
    "    muyg.reset_index(inplace= True)\n",
    "\n",
    "    fig_line_1 =px.line(muyg, x= \"States\", y= [\"RegisteredUsers\", \"AppOpens\"],\n",
    "                            title= f\"{year} REGISTERED USERS, APPOPENS\",\n",
    "                            color_discrete_sequence=px.colors.sequential.Bluered_r, width= 1000, height= 800, markers= True)\n",
    "    fig_line_1.show() \n",
    "    \n",
    "    return muy"
   ]
  },
  {
   "cell_type": "code",
   "execution_count": 301,
   "metadata": {},
   "outputs": [],
   "source": [
    "#Map user plot 2\n",
    "\n",
    "def map_user_plot_2(df, quarter):\n",
    "    \n",
    "    muyq= df[df[\"Quarter\"]==quarter]\n",
    "    muyq.reset_index(drop= True, inplace= True)\n",
    "\n",
    "\n",
    "    muyqg = muyq.groupby(\"States\")[[\"RegisteredUsers\", \"AppOpens\"]].sum()\n",
    "    muyqg.reset_index(inplace= True)\n",
    "\n",
    "    fig_line_1 =px.line(muyqg, x= \"States\", y= [\"RegisteredUsers\", \"AppOpens\"],\n",
    "                            title= f\"{df['Years'].unique()} YEAR {quarter} QUARTER, REGISTERED USERS, APPOPENS\",\n",
    "                            color_discrete_sequence=px.colors.sequential.Aggrnyl_r, width= 1000, height= 800, markers= True)\n",
    "    fig_line_1.show() \n",
    "    \n",
    "    return muyq"
   ]
  },
  {
   "cell_type": "code",
   "execution_count": 302,
   "metadata": {},
   "outputs": [],
   "source": [
    "#Map user plot 3\n",
    "\n",
    "def map_user_plot_3(df, states):\n",
    "\n",
    "    muyqs = df[df[\"States\"] == states ]\n",
    "    muyqs.reset_index(drop= True, inplace= True)\n",
    "\n",
    "    fig_map_user_bar_1 =px.bar(muyqs, x= \"RegisteredUsers\", y= \"Districts\", orientation= \"h\",\n",
    "                            title= f\"{states.upper()} REGISTERED USERS\",  color_discrete_sequence= px.colors.sequential.Rainbow, height= 800)\n",
    "    fig_map_user_bar_1.show()\n",
    "\n",
    "    fig_map_user_bar_2 =px.bar(muyqs, x= \"AppOpens\", y= \"Districts\", orientation= \"h\",\n",
    "                            title= f\"{states.upper()} APPOPENS\",  color_discrete_sequence= px.colors.sequential.Rainbow_r, height= 800)\n",
    "    fig_map_user_bar_2.show()"
   ]
  },
  {
   "cell_type": "code",
   "execution_count": 303,
   "metadata": {},
   "outputs": [],
   "source": [
    "# Top Insurance plot 1\n",
    "\n",
    "def Top_insurance_plot_1(df, states):\n",
    "    \n",
    "    tiy= df[df[\"States\"] == states]\n",
    "    tiy.reset_index(drop= True, inplace= True)\n",
    "\n",
    "    fig_top_insur_bar_1 =px.bar(tiy, x= \"Quarter\", y= \"Transaction_amount\", hover_data= \"Pincodes\",\n",
    "                                title= \"TRANSACTION AMOUNT\",  color_discrete_sequence= px.colors.sequential.Mint_r, height= 800)\n",
    "    fig_top_insur_bar_1.show()\n",
    "    \n",
    "    fig_top_insur_bar_2 =px.bar(tiy, x= \"Quarter\", y= \"Transaction_count\", hover_data= \"Pincodes\",\n",
    "                                title= \"TRANSACTION COUNT\",  color_discrete_sequence= px.colors.sequential.Rainbow, height= 800)\n",
    "    fig_top_insur_bar_2.show()"
   ]
  },
  {
   "cell_type": "code",
   "execution_count": 304,
   "metadata": {},
   "outputs": [],
   "source": [
    "# top user plot 1\n",
    "\n",
    "def top_user_plot_1(df, year):\n",
    "    \n",
    "    tuy = df[df[\"Years\"] == year]\n",
    "    tuy.reset_index(drop= True, inplace= True)\n",
    "\n",
    "\n",
    "    tuyg = pd.DataFrame(tuy.groupby([\"States\", \"Quarter\"])[\"RegisteredUsers\"].sum())\n",
    "    tuyg.reset_index(inplace= True)\n",
    "\n",
    "    fig_top_plot_1 = px.bar(tuyg, x= \"States\", y= \"RegisteredUsers\", color= \"Quarter\", height= 800, width= 1000,\n",
    "                            color_discrete_sequence= px.colors.sequential.Rainbow_r, hover_name= \"States\",\n",
    "                            title= f\"{year} REGISTERED USERS\")\n",
    "    fig_top_plot_1.show()\n",
    "    \n",
    "    return tuy"
   ]
  },
  {
   "cell_type": "code",
   "execution_count": 305,
   "metadata": {},
   "outputs": [],
   "source": [
    "#top user plot 2\n",
    "\n",
    "def top_user_plot_2(df, state):\n",
    "    \n",
    "    tuys= df[df[\"States\"] == state]\n",
    "    tuys.reset_index(drop= True, inplace= True)\n",
    "\n",
    "    fig_top_plot_2 = px.bar(tuys, x= \"Quarter\", y= \"RegisteredUsers\", title= f\"{state.upper()} REGISTERED USERS, PINCODES, QUARTER\",\n",
    "                            color_continuous_scale= px.colors.sequential.Magenta, height= 800, width= 1000, color= \"RegisteredUsers\",\n",
    "                            hover_data= \"Pincodes\")\n",
    "    fig_top_plot_2.show()"
   ]
  },
  {
   "cell_type": "markdown",
   "metadata": {},
   "source": [
    "### Aggregated_insurance\n"
   ]
  },
  {
   "cell_type": "code",
   "execution_count": null,
   "metadata": {},
   "outputs": [],
   "source": [
    "tac_Y = Transaction_amount_count_Y(Aggregated_insurance, 2023)"
   ]
  },
  {
   "cell_type": "code",
   "execution_count": null,
   "metadata": {},
   "outputs": [],
   "source": [
    "Transaction_amount_count_Y_Q(tac_Y, 2)"
   ]
  },
  {
   "cell_type": "markdown",
   "metadata": {},
   "source": [
    "### Aggregated_transaction\n"
   ]
  },
  {
   "cell_type": "code",
   "execution_count": null,
   "metadata": {},
   "outputs": [],
   "source": [
    "Aggre_tran_tac_Y = Transaction_amount_count_Y(Aggregated_transaction, 2024)"
   ]
  },
  {
   "cell_type": "code",
   "execution_count": null,
   "metadata": {},
   "outputs": [],
   "source": [
    "Aggre_tran_transaction_type(Aggre_tran_tac_Y, 'Tamil Nadu')"
   ]
  },
  {
   "cell_type": "code",
   "execution_count": null,
   "metadata": {},
   "outputs": [],
   "source": [
    "Aggre_tran_tac_Y_Q = Transaction_amount_count_Y_Q(Aggre_tran_tac_Y , 1)"
   ]
  },
  {
   "cell_type": "code",
   "execution_count": null,
   "metadata": {},
   "outputs": [],
   "source": [
    "Aggre_tran_transaction_type(Aggre_tran_tac_Y_Q, 'Tamil Nadu')"
   ]
  },
  {
   "cell_type": "markdown",
   "metadata": {},
   "source": [
    "### Aggregated user"
   ]
  },
  {
   "cell_type": "code",
   "execution_count": null,
   "metadata": {},
   "outputs": [],
   "source": [
    "Aggre_user_Y = Aggre_user_plot_1(Aggregated_user, 2021)"
   ]
  },
  {
   "cell_type": "code",
   "execution_count": null,
   "metadata": {},
   "outputs": [],
   "source": [
    "Aggre_user_Y_Q = Aggre_user_plot_2(Aggre_user_Y, 1)"
   ]
  },
  {
   "cell_type": "code",
   "execution_count": null,
   "metadata": {},
   "outputs": [],
   "source": [
    "Aggre_user_plot_3(Aggre_user_Y_Q, \"Tamil Nadu\")"
   ]
  },
  {
   "cell_type": "markdown",
   "metadata": {},
   "source": [
    "### Map Insurance"
   ]
  },
  {
   "cell_type": "code",
   "execution_count": null,
   "metadata": {},
   "outputs": [],
   "source": [
    "Map_insur_tac_Y = Transaction_amount_count_Y(Map_insurance, 2024)"
   ]
  },
  {
   "cell_type": "code",
   "execution_count": null,
   "metadata": {},
   "outputs": [],
   "source": [
    "Map_insur_Districts(Map_insur_tac_Y , \"West Bengal\")"
   ]
  },
  {
   "cell_type": "code",
   "execution_count": null,
   "metadata": {},
   "outputs": [],
   "source": [
    "Map_insur_tac_Y_Q = Transaction_amount_count_Y_Q(Map_insur_tac_Y  , 1)"
   ]
  },
  {
   "cell_type": "code",
   "execution_count": null,
   "metadata": {},
   "outputs": [],
   "source": [
    "Map_insur_Districts(Map_insur_tac_Y_Q, 'Tamil Nadu')"
   ]
  },
  {
   "cell_type": "markdown",
   "metadata": {},
   "source": [
    "### Map transaction"
   ]
  },
  {
   "cell_type": "code",
   "execution_count": null,
   "metadata": {},
   "outputs": [],
   "source": [
    "Map_tran_tac_Y = Transaction_amount_count_Y(Map_transaction, 2024)"
   ]
  },
  {
   "cell_type": "code",
   "execution_count": null,
   "metadata": {},
   "outputs": [],
   "source": [
    "Map_insur_Districts(Map_tran_tac_Y , \"West Bengal\")"
   ]
  },
  {
   "cell_type": "code",
   "execution_count": null,
   "metadata": {},
   "outputs": [],
   "source": [
    "Map_tran_tac_Y_Q = Transaction_amount_count_Y_Q(Map_tran_tac_Y  , 1)"
   ]
  },
  {
   "cell_type": "code",
   "execution_count": null,
   "metadata": {},
   "outputs": [],
   "source": [
    "Map_insur_Districts(Map_tran_tac_Y_Q, 'Tamil Nadu')"
   ]
  },
  {
   "cell_type": "markdown",
   "metadata": {},
   "source": [
    "### Map User"
   ]
  },
  {
   "cell_type": "code",
   "execution_count": null,
   "metadata": {},
   "outputs": [],
   "source": [
    "Map_user_Y = map_user_plot_1(Map_user, 2024)"
   ]
  },
  {
   "cell_type": "code",
   "execution_count": null,
   "metadata": {},
   "outputs": [],
   "source": [
    "Map_user_Y_Q = map_user_plot_2(Map_user_Y, 1)"
   ]
  },
  {
   "cell_type": "code",
   "execution_count": null,
   "metadata": {},
   "outputs": [],
   "source": [
    "map_user_plot_3(Map_user_Y_Q, \"Tamil Nadu\")"
   ]
  },
  {
   "cell_type": "markdown",
   "metadata": {},
   "source": [
    "### Top insurance"
   ]
  },
  {
   "cell_type": "code",
   "execution_count": null,
   "metadata": {},
   "outputs": [],
   "source": [
    "Top_insur_tac_Y = Transaction_amount_count_Y(Top_insurance, 2023)"
   ]
  },
  {
   "cell_type": "code",
   "execution_count": null,
   "metadata": {},
   "outputs": [],
   "source": [
    "Top_insurance_plot_1(Top_insur_tac_Y, \"Tamil Nadu\")"
   ]
  },
  {
   "cell_type": "code",
   "execution_count": null,
   "metadata": {},
   "outputs": [],
   "source": [
    "Top_insur_tac_Y_Q = Transaction_amount_count_Y_Q(Top_insur_tac_Y  , 3)"
   ]
  },
  {
   "cell_type": "markdown",
   "metadata": {},
   "source": [
    "### Top Transaction"
   ]
  },
  {
   "cell_type": "code",
   "execution_count": null,
   "metadata": {},
   "outputs": [],
   "source": [
    "Top_tran_tac_Y = Transaction_amount_count_Y(Top_transaction, 2023)"
   ]
  },
  {
   "cell_type": "code",
   "execution_count": null,
   "metadata": {},
   "outputs": [],
   "source": [
    "Top_insurance_plot_1(Top_tran_tac_Y, \"Tamil Nadu\")"
   ]
  },
  {
   "cell_type": "code",
   "execution_count": null,
   "metadata": {},
   "outputs": [],
   "source": [
    "Top_tran_tac_Y_Q = Transaction_amount_count_Y_Q(Top_tran_tac_Y  , 3)"
   ]
  },
  {
   "cell_type": "markdown",
   "metadata": {},
   "source": [
    "### Top User"
   ]
  },
  {
   "cell_type": "code",
   "execution_count": null,
   "metadata": {},
   "outputs": [],
   "source": [
    "Top_user_Y = top_user_plot_1(Top_user, 2021)"
   ]
  },
  {
   "cell_type": "code",
   "execution_count": null,
   "metadata": {},
   "outputs": [],
   "source": [
    "top_user_plot_2(Top_user_Y, \"Tamil Nadu\")"
   ]
  },
  {
   "cell_type": "code",
   "execution_count": 334,
   "metadata": {},
   "outputs": [
    {
     "data": {
      "text/html": [
       "<div>\n",
       "<style scoped>\n",
       "    .dataframe tbody tr th:only-of-type {\n",
       "        vertical-align: middle;\n",
       "    }\n",
       "\n",
       "    .dataframe tbody tr th {\n",
       "        vertical-align: top;\n",
       "    }\n",
       "\n",
       "    .dataframe thead th {\n",
       "        text-align: right;\n",
       "    }\n",
       "</style>\n",
       "<table border=\"1\" class=\"dataframe\">\n",
       "  <thead>\n",
       "    <tr style=\"text-align: right;\">\n",
       "      <th></th>\n",
       "      <th>States</th>\n",
       "      <th>Years</th>\n",
       "      <th>Quarter</th>\n",
       "      <th>Pincodes</th>\n",
       "      <th>RegisteredUsers</th>\n",
       "    </tr>\n",
       "  </thead>\n",
       "  <tbody>\n",
       "    <tr>\n",
       "      <th>0</th>\n",
       "      <td>Andaman &amp; Nicobar</td>\n",
       "      <td>2018</td>\n",
       "      <td>1</td>\n",
       "      <td>744103</td>\n",
       "      <td>1608</td>\n",
       "    </tr>\n",
       "    <tr>\n",
       "      <th>1</th>\n",
       "      <td>Andaman &amp; Nicobar</td>\n",
       "      <td>2018</td>\n",
       "      <td>1</td>\n",
       "      <td>744101</td>\n",
       "      <td>1108</td>\n",
       "    </tr>\n",
       "    <tr>\n",
       "      <th>2</th>\n",
       "      <td>Andaman &amp; Nicobar</td>\n",
       "      <td>2018</td>\n",
       "      <td>1</td>\n",
       "      <td>744105</td>\n",
       "      <td>1075</td>\n",
       "    </tr>\n",
       "    <tr>\n",
       "      <th>3</th>\n",
       "      <td>Andaman &amp; Nicobar</td>\n",
       "      <td>2018</td>\n",
       "      <td>1</td>\n",
       "      <td>744102</td>\n",
       "      <td>1006</td>\n",
       "    </tr>\n",
       "    <tr>\n",
       "      <th>4</th>\n",
       "      <td>Andaman &amp; Nicobar</td>\n",
       "      <td>2018</td>\n",
       "      <td>1</td>\n",
       "      <td>744104</td>\n",
       "      <td>272</td>\n",
       "    </tr>\n",
       "    <tr>\n",
       "      <th>...</th>\n",
       "      <td>...</td>\n",
       "      <td>...</td>\n",
       "      <td>...</td>\n",
       "      <td>...</td>\n",
       "      <td>...</td>\n",
       "    </tr>\n",
       "    <tr>\n",
       "      <th>8920</th>\n",
       "      <td>West Bengal</td>\n",
       "      <td>2024</td>\n",
       "      <td>1</td>\n",
       "      <td>700015</td>\n",
       "      <td>131676</td>\n",
       "    </tr>\n",
       "    <tr>\n",
       "      <th>8921</th>\n",
       "      <td>West Bengal</td>\n",
       "      <td>2024</td>\n",
       "      <td>1</td>\n",
       "      <td>742304</td>\n",
       "      <td>127917</td>\n",
       "    </tr>\n",
       "    <tr>\n",
       "      <th>8922</th>\n",
       "      <td>West Bengal</td>\n",
       "      <td>2024</td>\n",
       "      <td>1</td>\n",
       "      <td>721101</td>\n",
       "      <td>127891</td>\n",
       "    </tr>\n",
       "    <tr>\n",
       "      <th>8923</th>\n",
       "      <td>West Bengal</td>\n",
       "      <td>2024</td>\n",
       "      <td>1</td>\n",
       "      <td>700150</td>\n",
       "      <td>123919</td>\n",
       "    </tr>\n",
       "    <tr>\n",
       "      <th>8924</th>\n",
       "      <td>West Bengal</td>\n",
       "      <td>2024</td>\n",
       "      <td>1</td>\n",
       "      <td>700091</td>\n",
       "      <td>122985</td>\n",
       "    </tr>\n",
       "  </tbody>\n",
       "</table>\n",
       "<p>8925 rows × 5 columns</p>\n",
       "</div>"
      ],
      "text/plain": [
       "                  States  Years  Quarter  Pincodes  RegisteredUsers\n",
       "0     Andaman & Nicobar    2018        1    744103             1608\n",
       "1     Andaman & Nicobar    2018        1    744101             1108\n",
       "2     Andaman & Nicobar    2018        1    744105             1075\n",
       "3     Andaman & Nicobar    2018        1    744102             1006\n",
       "4     Andaman & Nicobar    2018        1    744104              272\n",
       "...                  ...    ...      ...       ...              ...\n",
       "8920         West Bengal   2024        1    700015           131676\n",
       "8921         West Bengal   2024        1    742304           127917\n",
       "8922         West Bengal   2024        1    721101           127891\n",
       "8923         West Bengal   2024        1    700150           123919\n",
       "8924         West Bengal   2024        1    700091           122985\n",
       "\n",
       "[8925 rows x 5 columns]"
      ]
     },
     "execution_count": 334,
     "metadata": {},
     "output_type": "execute_result"
    }
   ],
   "source": [
    "Top_user"
   ]
  }
 ],
 "metadata": {
  "kernelspec": {
   "display_name": "Python 3",
   "language": "python",
   "name": "python3"
  },
  "language_info": {
   "codemirror_mode": {
    "name": "ipython",
    "version": 3
   },
   "file_extension": ".py",
   "mimetype": "text/x-python",
   "name": "python",
   "nbconvert_exporter": "python",
   "pygments_lexer": "ipython3",
   "version": "3.12.4"
  }
 },
 "nbformat": 4,
 "nbformat_minor": 2
}
